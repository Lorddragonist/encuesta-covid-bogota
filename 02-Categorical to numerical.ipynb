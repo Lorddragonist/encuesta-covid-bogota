{
 "cells": [
  {
   "cell_type": "code",
   "id": "initial_id",
   "metadata": {
    "collapsed": true,
    "ExecuteTime": {
     "end_time": "2024-08-02T02:14:38.386818Z",
     "start_time": "2024-08-02T02:14:38.380586Z"
    }
   },
   "source": [
    "import pandas as pd\n",
    "import numpy as np\n",
    "from column_dictionary import questions\n",
    "import warnings\n",
    "import os\n",
    "warnings.filterwarnings(\"ignore\")"
   ],
   "outputs": [],
   "execution_count": 217
  },
  {
   "metadata": {
    "ExecuteTime": {
     "end_time": "2024-08-02T02:14:40.077123Z",
     "start_time": "2024-08-02T02:14:40.032565Z"
    }
   },
   "cell_type": "code",
   "source": "%run pandas-missing-extension.ipynb",
   "id": "fdb936dec3281bb0",
   "outputs": [],
   "execution_count": 218
  },
  {
   "metadata": {},
   "cell_type": "markdown",
   "source": "Agregando archivo para procesar con pandas",
   "id": "33dc1f66acd81cf1"
  },
  {
   "metadata": {
    "ExecuteTime": {
     "end_time": "2024-08-02T02:14:40.233429Z",
     "start_time": "2024-08-02T02:14:40.142789Z"
    }
   },
   "cell_type": "code",
   "source": [
    "df = pd.read_csv(\n",
    "    \"./data/base_saludmental.csv\",\n",
    "    sep=\";\"\n",
    ")"
   ],
   "id": "df9ae088df6632c3",
   "outputs": [],
   "execution_count": 219
  },
  {
   "metadata": {},
   "cell_type": "markdown",
   "source": "Convirtiendo titulos en variables más legibles",
   "id": "19c03ba5da1d970f"
  },
  {
   "metadata": {
    "ExecuteTime": {
     "end_time": "2024-08-02T02:14:40.280309Z",
     "start_time": "2024-08-02T02:14:40.256607Z"
    }
   },
   "cell_type": "code",
   "source": [
    "new_columns = [questions[col_name] for col_name in df.columns]\n",
    "df. columns = new_columns\n",
    "df.head()"
   ],
   "id": "494c2c120ac71a6f",
   "outputs": [
    {
     "data": {
      "text/plain": [
       "     timestamp confianza_vecinos frecuencia_habla_vecinos_mes_pasado  \\\n",
       "0  44018,34521        La mayoría                                Nada   \n",
       "1  44018,34595           Algunos                                Nada   \n",
       "2  44018,34611           Algunos           Algunas veces a la semana   \n",
       "3  44018,35482        La mayoría           Algunas veces a la semana   \n",
       "4  44018,35899        La mayoría                Algunas veces al mes   \n",
       "\n",
       "  frecuencia_habla_vecinos_mes_normal  \\\n",
       "0                Algunas veces al mes   \n",
       "1                                Nada   \n",
       "2           Algunas veces a la semana   \n",
       "3           Algunas veces a la semana   \n",
       "4                Algunas veces al mes   \n",
       "\n",
       "  frecuencia_habla_amigos_familia_mes_pasado  \\\n",
       "0                        Casi todos los días   \n",
       "1                        Casi todos los días   \n",
       "2                        Casi todos los días   \n",
       "3                        Casi todos los días   \n",
       "4                  Algunas veces a la semana   \n",
       "\n",
       "  frecuencia_habla_amigos_familia_mes_normal  \\\n",
       "0                  Algunas veces a la semana   \n",
       "1                       Algunas veces al mes   \n",
       "2                        Casi todos los días   \n",
       "3                        Casi todos los días   \n",
       "4                  Algunas veces a la semana   \n",
       "\n",
       "  cumplimiento_autocuidado_personal cumplimiento_autocuidado_familiares  \\\n",
       "0                      5 Totalmente                        5 Totalmente   \n",
       "1                      5 Totalmente                                   4   \n",
       "2                      5 Totalmente                        5 Totalmente   \n",
       "3                      5 Totalmente                                   4   \n",
       "4                                 4                                   4   \n",
       "\n",
       "  cumplimiento_autocuidado_vecinos estrategia_comunicacion_clara  ...  \\\n",
       "0                     5 Totalmente                            Sí  ...   \n",
       "1                                3                            No  ...   \n",
       "2                                3                            Sí  ...   \n",
       "3                                4                            Sí  ...   \n",
       "4                                4                            Sí  ...   \n",
       "\n",
       "  num_personas_hogar num_personas_5_menos num_personas_6_18  \\\n",
       "0             Cuatro                  Una               Una   \n",
       "1                Dos              Ninguna           Ninguna   \n",
       "2               Tres              Ninguna           Ninguna   \n",
       "3             Cuatro              Ninguna           Ninguna   \n",
       "4    Una (vivo solo)              Ninguna           Ninguna   \n",
       "\n",
       "  num_personas_19_64 num_personas_65_mas oportunidad_expresar_sentimientos  \\\n",
       "0                Dos             Ninguna                                Sí   \n",
       "1                Una             Ninguna                                Sí   \n",
       "2               Tres             Ninguna                                Sí   \n",
       "3             Cuatro             Ninguna                                Sí   \n",
       "4                Una             Ninguna                                Sí   \n",
       "\n",
       "  frecuencia_actividad_fisica_mes exposicion_violencia_hogar  \\\n",
       "0                     Ninguna vez                        1.0   \n",
       "1    Menos de una vez a la semana                        1.0   \n",
       "2      Más de una vez a la semana                        1.0   \n",
       "3      Más de una vez a la semana                        1.0   \n",
       "4             Una vez a la semana                        1.0   \n",
       "\n",
       "  diagnostico_salud_mental continuidad_tratamiento_salud_mental  \n",
       "0                       No                            No aplica  \n",
       "1                       Sí                                   Sí  \n",
       "2                       No                            No aplica  \n",
       "3                       Sí                                   No  \n",
       "4                       No                            No aplica  \n",
       "\n",
       "[5 rows x 55 columns]"
      ],
      "text/html": [
       "<div>\n",
       "<style scoped>\n",
       "    .dataframe tbody tr th:only-of-type {\n",
       "        vertical-align: middle;\n",
       "    }\n",
       "\n",
       "    .dataframe tbody tr th {\n",
       "        vertical-align: top;\n",
       "    }\n",
       "\n",
       "    .dataframe thead th {\n",
       "        text-align: right;\n",
       "    }\n",
       "</style>\n",
       "<table border=\"1\" class=\"dataframe\">\n",
       "  <thead>\n",
       "    <tr style=\"text-align: right;\">\n",
       "      <th></th>\n",
       "      <th>timestamp</th>\n",
       "      <th>confianza_vecinos</th>\n",
       "      <th>frecuencia_habla_vecinos_mes_pasado</th>\n",
       "      <th>frecuencia_habla_vecinos_mes_normal</th>\n",
       "      <th>frecuencia_habla_amigos_familia_mes_pasado</th>\n",
       "      <th>frecuencia_habla_amigos_familia_mes_normal</th>\n",
       "      <th>cumplimiento_autocuidado_personal</th>\n",
       "      <th>cumplimiento_autocuidado_familiares</th>\n",
       "      <th>cumplimiento_autocuidado_vecinos</th>\n",
       "      <th>estrategia_comunicacion_clara</th>\n",
       "      <th>...</th>\n",
       "      <th>num_personas_hogar</th>\n",
       "      <th>num_personas_5_menos</th>\n",
       "      <th>num_personas_6_18</th>\n",
       "      <th>num_personas_19_64</th>\n",
       "      <th>num_personas_65_mas</th>\n",
       "      <th>oportunidad_expresar_sentimientos</th>\n",
       "      <th>frecuencia_actividad_fisica_mes</th>\n",
       "      <th>exposicion_violencia_hogar</th>\n",
       "      <th>diagnostico_salud_mental</th>\n",
       "      <th>continuidad_tratamiento_salud_mental</th>\n",
       "    </tr>\n",
       "  </thead>\n",
       "  <tbody>\n",
       "    <tr>\n",
       "      <th>0</th>\n",
       "      <td>44018,34521</td>\n",
       "      <td>La mayoría</td>\n",
       "      <td>Nada</td>\n",
       "      <td>Algunas veces al mes</td>\n",
       "      <td>Casi todos los días</td>\n",
       "      <td>Algunas veces a la semana</td>\n",
       "      <td>5 Totalmente</td>\n",
       "      <td>5 Totalmente</td>\n",
       "      <td>5 Totalmente</td>\n",
       "      <td>Sí</td>\n",
       "      <td>...</td>\n",
       "      <td>Cuatro</td>\n",
       "      <td>Una</td>\n",
       "      <td>Una</td>\n",
       "      <td>Dos</td>\n",
       "      <td>Ninguna</td>\n",
       "      <td>Sí</td>\n",
       "      <td>Ninguna vez</td>\n",
       "      <td>1.0</td>\n",
       "      <td>No</td>\n",
       "      <td>No aplica</td>\n",
       "    </tr>\n",
       "    <tr>\n",
       "      <th>1</th>\n",
       "      <td>44018,34595</td>\n",
       "      <td>Algunos</td>\n",
       "      <td>Nada</td>\n",
       "      <td>Nada</td>\n",
       "      <td>Casi todos los días</td>\n",
       "      <td>Algunas veces al mes</td>\n",
       "      <td>5 Totalmente</td>\n",
       "      <td>4</td>\n",
       "      <td>3</td>\n",
       "      <td>No</td>\n",
       "      <td>...</td>\n",
       "      <td>Dos</td>\n",
       "      <td>Ninguna</td>\n",
       "      <td>Ninguna</td>\n",
       "      <td>Una</td>\n",
       "      <td>Ninguna</td>\n",
       "      <td>Sí</td>\n",
       "      <td>Menos de una vez a la semana</td>\n",
       "      <td>1.0</td>\n",
       "      <td>Sí</td>\n",
       "      <td>Sí</td>\n",
       "    </tr>\n",
       "    <tr>\n",
       "      <th>2</th>\n",
       "      <td>44018,34611</td>\n",
       "      <td>Algunos</td>\n",
       "      <td>Algunas veces a la semana</td>\n",
       "      <td>Algunas veces a la semana</td>\n",
       "      <td>Casi todos los días</td>\n",
       "      <td>Casi todos los días</td>\n",
       "      <td>5 Totalmente</td>\n",
       "      <td>5 Totalmente</td>\n",
       "      <td>3</td>\n",
       "      <td>Sí</td>\n",
       "      <td>...</td>\n",
       "      <td>Tres</td>\n",
       "      <td>Ninguna</td>\n",
       "      <td>Ninguna</td>\n",
       "      <td>Tres</td>\n",
       "      <td>Ninguna</td>\n",
       "      <td>Sí</td>\n",
       "      <td>Más de una vez a la semana</td>\n",
       "      <td>1.0</td>\n",
       "      <td>No</td>\n",
       "      <td>No aplica</td>\n",
       "    </tr>\n",
       "    <tr>\n",
       "      <th>3</th>\n",
       "      <td>44018,35482</td>\n",
       "      <td>La mayoría</td>\n",
       "      <td>Algunas veces a la semana</td>\n",
       "      <td>Algunas veces a la semana</td>\n",
       "      <td>Casi todos los días</td>\n",
       "      <td>Casi todos los días</td>\n",
       "      <td>5 Totalmente</td>\n",
       "      <td>4</td>\n",
       "      <td>4</td>\n",
       "      <td>Sí</td>\n",
       "      <td>...</td>\n",
       "      <td>Cuatro</td>\n",
       "      <td>Ninguna</td>\n",
       "      <td>Ninguna</td>\n",
       "      <td>Cuatro</td>\n",
       "      <td>Ninguna</td>\n",
       "      <td>Sí</td>\n",
       "      <td>Más de una vez a la semana</td>\n",
       "      <td>1.0</td>\n",
       "      <td>Sí</td>\n",
       "      <td>No</td>\n",
       "    </tr>\n",
       "    <tr>\n",
       "      <th>4</th>\n",
       "      <td>44018,35899</td>\n",
       "      <td>La mayoría</td>\n",
       "      <td>Algunas veces al mes</td>\n",
       "      <td>Algunas veces al mes</td>\n",
       "      <td>Algunas veces a la semana</td>\n",
       "      <td>Algunas veces a la semana</td>\n",
       "      <td>4</td>\n",
       "      <td>4</td>\n",
       "      <td>4</td>\n",
       "      <td>Sí</td>\n",
       "      <td>...</td>\n",
       "      <td>Una (vivo solo)</td>\n",
       "      <td>Ninguna</td>\n",
       "      <td>Ninguna</td>\n",
       "      <td>Una</td>\n",
       "      <td>Ninguna</td>\n",
       "      <td>Sí</td>\n",
       "      <td>Una vez a la semana</td>\n",
       "      <td>1.0</td>\n",
       "      <td>No</td>\n",
       "      <td>No aplica</td>\n",
       "    </tr>\n",
       "  </tbody>\n",
       "</table>\n",
       "<p>5 rows × 55 columns</p>\n",
       "</div>"
      ]
     },
     "execution_count": 220,
     "metadata": {},
     "output_type": "execute_result"
    }
   ],
   "execution_count": 220
  },
  {
   "metadata": {
    "ExecuteTime": {
     "end_time": "2024-08-02T02:14:41.351496Z",
     "start_time": "2024-08-02T02:14:41.338225Z"
    }
   },
   "cell_type": "code",
   "source": "df['confianza_vecinos'].drop_duplicates()",
   "id": "7a2f5e304e8983c5",
   "outputs": [
    {
     "data": {
      "text/plain": [
       "0      La mayoría\n",
       "1         Algunos\n",
       "8         Ninguno\n",
       "9           Todos\n",
       "836           NaN\n",
       "Name: confianza_vecinos, dtype: object"
      ]
     },
     "execution_count": 221,
     "metadata": {},
     "output_type": "execute_result"
    }
   ],
   "execution_count": 221
  },
  {
   "metadata": {
    "ExecuteTime": {
     "end_time": "2024-08-02T02:14:41.625152Z",
     "start_time": "2024-08-02T02:14:41.619690Z"
    }
   },
   "cell_type": "code",
   "source": [
    "dict_frecuency = {\n",
    "    'Todos':4,\n",
    "    'La mayoría':3,\n",
    "    'Algunos':2,\n",
    "    'Ninguno':1\n",
    "}"
   ],
   "id": "146e07a9df215ea8",
   "outputs": [],
   "execution_count": 222
  },
  {
   "metadata": {},
   "cell_type": "markdown",
   "source": "Esta función me permite reemplazar los valores de una columna con un diccionario que traduzca los datos categoricos a numéricos",
   "id": "900541d2c3435315"
  },
  {
   "metadata": {
    "ExecuteTime": {
     "end_time": "2024-08-02T02:14:41.717516Z",
     "start_time": "2024-08-02T02:14:41.705158Z"
    }
   },
   "cell_type": "code",
   "source": [
    "def replace_values(row,dict):\n",
    "    if row is not np.nan:\n",
    "        return dict[row]\n",
    "    else:\n",
    "        return np.nan"
   ],
   "id": "2fa0d07de8714b49",
   "outputs": [],
   "execution_count": 223
  },
  {
   "metadata": {},
   "cell_type": "markdown",
   "source": "Esta función me permite aplicar la función anterior a cada valor del campo y reemplazar los valores nulos con la media de respuesta. Aplico la media debido a que los valores faltantes no superan un 6.20% salvo la pregunta final que solo se contesta dependiendo si la penultima es respondida con un sí.",
   "id": "337d0b1a376c2f5c"
  },
  {
   "metadata": {
    "ExecuteTime": {
     "end_time": "2024-08-02T02:14:41.763941Z",
     "start_time": "2024-08-02T02:14:41.751240Z"
    }
   },
   "cell_type": "code",
   "source": [
    "def convert_colum_categorical_to_numeric(field_name,dict):\n",
    "    df[field_name] = df[field_name].apply(lambda row: replace_values(row,dict))\n",
    "    df[field_name] = df[field_name].fillna(int(df[field_name].mean()))"
   ],
   "id": "51efe8eac7dd08e6",
   "outputs": [],
   "execution_count": 224
  },
  {
   "metadata": {},
   "cell_type": "markdown",
   "source": [
    "## Conversión de categorías a número\n",
    "Cada una de las variables es analizada individualmente y se aplica un tipo de diccionario dependiendo de la pregunta para distribuir los pesos de la respuesta"
   ],
   "id": "614a07725ff159d9"
  },
  {
   "metadata": {
    "ExecuteTime": {
     "end_time": "2024-08-02T02:14:41.903189Z",
     "start_time": "2024-08-02T02:14:41.876423Z"
    }
   },
   "cell_type": "code",
   "source": [
    "field_name = 'confianza_vecinos'\n",
    "convert_colum_categorical_to_numeric(field_name,dict_frecuency)\n",
    "df[field_name].drop_duplicates().reset_index(drop=True)"
   ],
   "id": "a41ed3bcc8a17eda",
   "outputs": [
    {
     "data": {
      "text/plain": [
       "0    3.0\n",
       "1    2.0\n",
       "2    1.0\n",
       "3    4.0\n",
       "Name: confianza_vecinos, dtype: float64"
      ]
     },
     "execution_count": 225,
     "metadata": {},
     "output_type": "execute_result"
    }
   ],
   "execution_count": 225
  },
  {
   "metadata": {
    "ExecuteTime": {
     "end_time": "2024-08-02T02:14:41.927340Z",
     "start_time": "2024-08-02T02:14:41.906173Z"
    }
   },
   "cell_type": "code",
   "source": "df['frecuencia_habla_vecinos_mes_pasado'].drop_duplicates().reset_index(drop=True)",
   "id": "7a2ae98945d02cab",
   "outputs": [
    {
     "data": {
      "text/plain": [
       "0                         Nada\n",
       "1    Algunas veces a la semana\n",
       "2         Algunas veces al mes\n",
       "3                      Una vez\n",
       "4          Casi todos los días\n",
       "5               No está seguro\n",
       "6                          NaN\n",
       "Name: frecuencia_habla_vecinos_mes_pasado, dtype: object"
      ]
     },
     "execution_count": 226,
     "metadata": {},
     "output_type": "execute_result"
    }
   ],
   "execution_count": 226
  },
  {
   "metadata": {
    "ExecuteTime": {
     "end_time": "2024-08-02T02:14:41.943399Z",
     "start_time": "2024-08-02T02:14:41.930623Z"
    }
   },
   "cell_type": "code",
   "source": [
    "dict_frecuency2 = {\n",
    "    'Casi todos los días':6,\n",
    "    'Algunas veces a la semana':5,\n",
    "    'Algunas veces al mes':4,\n",
    "    'No está seguro':3,\n",
    "    'Una vez':2,\n",
    "    'Nada':1\n",
    "}"
   ],
   "id": "5fa3d085d9dc467a",
   "outputs": [],
   "execution_count": 227
  },
  {
   "metadata": {
    "ExecuteTime": {
     "end_time": "2024-08-02T02:14:41.974619Z",
     "start_time": "2024-08-02T02:14:41.945795Z"
    }
   },
   "cell_type": "code",
   "source": [
    "field_name = 'frecuencia_habla_vecinos_mes_pasado'\n",
    "convert_colum_categorical_to_numeric(field_name,dict_frecuency2)\n",
    "df[field_name].drop_duplicates().reset_index(drop=True)"
   ],
   "id": "56eb7ca38806d38c",
   "outputs": [
    {
     "data": {
      "text/plain": [
       "0    1.0\n",
       "1    5.0\n",
       "2    4.0\n",
       "3    2.0\n",
       "4    6.0\n",
       "5    3.0\n",
       "Name: frecuencia_habla_vecinos_mes_pasado, dtype: float64"
      ]
     },
     "execution_count": 228,
     "metadata": {},
     "output_type": "execute_result"
    }
   ],
   "execution_count": 228
  },
  {
   "metadata": {
    "ExecuteTime": {
     "end_time": "2024-08-02T02:14:42.005440Z",
     "start_time": "2024-08-02T02:14:41.977928Z"
    }
   },
   "cell_type": "code",
   "source": [
    "field_name = 'frecuencia_habla_vecinos_mes_normal'\n",
    "convert_colum_categorical_to_numeric(field_name,dict_frecuency2)\n",
    "df[field_name].drop_duplicates().reset_index(drop=True)"
   ],
   "id": "8df813c32ed1f38d",
   "outputs": [
    {
     "data": {
      "text/plain": [
       "0    4.0\n",
       "1    1.0\n",
       "2    5.0\n",
       "3    2.0\n",
       "4    6.0\n",
       "5    3.0\n",
       "Name: frecuencia_habla_vecinos_mes_normal, dtype: float64"
      ]
     },
     "execution_count": 229,
     "metadata": {},
     "output_type": "execute_result"
    }
   ],
   "execution_count": 229
  },
  {
   "metadata": {
    "ExecuteTime": {
     "end_time": "2024-08-02T02:14:42.036698Z",
     "start_time": "2024-08-02T02:14:42.007962Z"
    }
   },
   "cell_type": "code",
   "source": [
    "field_name = 'frecuencia_habla_amigos_familia_mes_pasado'\n",
    "convert_colum_categorical_to_numeric(field_name,dict_frecuency2)\n",
    "df[field_name].drop_duplicates().reset_index(drop=True)"
   ],
   "id": "ca51972497cddda",
   "outputs": [
    {
     "data": {
      "text/plain": [
       "0    6.0\n",
       "1    5.0\n",
       "2    4.0\n",
       "3    1.0\n",
       "4    2.0\n",
       "5    3.0\n",
       "Name: frecuencia_habla_amigos_familia_mes_pasado, dtype: float64"
      ]
     },
     "execution_count": 230,
     "metadata": {},
     "output_type": "execute_result"
    }
   ],
   "execution_count": 230
  },
  {
   "metadata": {
    "ExecuteTime": {
     "end_time": "2024-08-02T02:14:42.067839Z",
     "start_time": "2024-08-02T02:14:42.039714Z"
    }
   },
   "cell_type": "code",
   "source": [
    "field_name = 'frecuencia_habla_amigos_familia_mes_normal'\n",
    "convert_colum_categorical_to_numeric(field_name,dict_frecuency2)\n",
    "df[field_name].drop_duplicates().reset_index(drop=True)"
   ],
   "id": "ea9ea0127b0288eb",
   "outputs": [
    {
     "data": {
      "text/plain": [
       "0    5.0\n",
       "1    4.0\n",
       "2    6.0\n",
       "3    2.0\n",
       "4    3.0\n",
       "5    1.0\n",
       "Name: frecuencia_habla_amigos_familia_mes_normal, dtype: float64"
      ]
     },
     "execution_count": 231,
     "metadata": {},
     "output_type": "execute_result"
    }
   ],
   "execution_count": 231
  },
  {
   "metadata": {
    "ExecuteTime": {
     "end_time": "2024-08-02T02:14:42.083718Z",
     "start_time": "2024-08-02T02:14:42.070364Z"
    }
   },
   "cell_type": "code",
   "source": "df['cumplimiento_autocuidado_personal'].drop_duplicates().reset_index(drop=True)",
   "id": "2ca218680777c1dd",
   "outputs": [
    {
     "data": {
      "text/plain": [
       "0    5 Totalmente\n",
       "1               4\n",
       "2               3\n",
       "3          1 Nada\n",
       "4               2\n",
       "Name: cumplimiento_autocuidado_personal, dtype: object"
      ]
     },
     "execution_count": 232,
     "metadata": {},
     "output_type": "execute_result"
    }
   ],
   "execution_count": 232
  },
  {
   "metadata": {
    "ExecuteTime": {
     "end_time": "2024-08-02T02:14:42.099385Z",
     "start_time": "2024-08-02T02:14:42.086451Z"
    }
   },
   "cell_type": "code",
   "source": [
    "dict_frecuency3 = {\n",
    "        '5 Totalmente':5,\n",
    "        '4':4,\n",
    "        '3':3,\n",
    "        '2':2,\n",
    "        '1 Nada':1\n",
    "    }"
   ],
   "id": "63af3cce445b184e",
   "outputs": [],
   "execution_count": 233
  },
  {
   "metadata": {
    "ExecuteTime": {
     "end_time": "2024-08-02T02:14:42.130953Z",
     "start_time": "2024-08-02T02:14:42.101373Z"
    }
   },
   "cell_type": "code",
   "source": [
    "field_name = 'cumplimiento_autocuidado_personal'\n",
    "convert_colum_categorical_to_numeric(field_name,dict_frecuency3)\n",
    "df[field_name].drop_duplicates().reset_index(drop=True)"
   ],
   "id": "583b2ea8d666fea5",
   "outputs": [
    {
     "data": {
      "text/plain": [
       "0    5\n",
       "1    4\n",
       "2    3\n",
       "3    1\n",
       "4    2\n",
       "Name: cumplimiento_autocuidado_personal, dtype: int64"
      ]
     },
     "execution_count": 234,
     "metadata": {},
     "output_type": "execute_result"
    }
   ],
   "execution_count": 234
  },
  {
   "metadata": {
    "ExecuteTime": {
     "end_time": "2024-08-02T02:14:42.161532Z",
     "start_time": "2024-08-02T02:14:42.135139Z"
    }
   },
   "cell_type": "code",
   "source": [
    "field_name = 'cumplimiento_autocuidado_familiares'\n",
    "convert_colum_categorical_to_numeric(field_name,dict_frecuency3)\n",
    "df[field_name].drop_duplicates().reset_index(drop=True)"
   ],
   "id": "6fd6d79a9b72c812",
   "outputs": [
    {
     "data": {
      "text/plain": [
       "0    5\n",
       "1    4\n",
       "2    3\n",
       "3    1\n",
       "4    2\n",
       "Name: cumplimiento_autocuidado_familiares, dtype: int64"
      ]
     },
     "execution_count": 235,
     "metadata": {},
     "output_type": "execute_result"
    }
   ],
   "execution_count": 235
  },
  {
   "metadata": {
    "ExecuteTime": {
     "end_time": "2024-08-02T02:14:42.192533Z",
     "start_time": "2024-08-02T02:14:42.164923Z"
    }
   },
   "cell_type": "code",
   "source": [
    "field_name = 'cumplimiento_autocuidado_vecinos'\n",
    "convert_colum_categorical_to_numeric(field_name,dict_frecuency3)\n",
    "df[field_name].drop_duplicates().reset_index(drop=True)"
   ],
   "id": "6d4fda2936078a3d",
   "outputs": [
    {
     "data": {
      "text/plain": [
       "0    5\n",
       "1    3\n",
       "2    4\n",
       "3    2\n",
       "4    1\n",
       "Name: cumplimiento_autocuidado_vecinos, dtype: int64"
      ]
     },
     "execution_count": 236,
     "metadata": {},
     "output_type": "execute_result"
    }
   ],
   "execution_count": 236
  },
  {
   "metadata": {
    "ExecuteTime": {
     "end_time": "2024-08-02T02:14:42.207516Z",
     "start_time": "2024-08-02T02:14:42.195172Z"
    }
   },
   "cell_type": "code",
   "source": "df['estrategia_comunicacion_clara'].drop_duplicates().reset_index(drop=True)",
   "id": "dd9c610c35abaf22",
   "outputs": [
    {
     "data": {
      "text/plain": [
       "0         Sí\n",
       "1         No\n",
       "2    No sabe\n",
       "Name: estrategia_comunicacion_clara, dtype: object"
      ]
     },
     "execution_count": 237,
     "metadata": {},
     "output_type": "execute_result"
    }
   ],
   "execution_count": 237
  },
  {
   "metadata": {
    "ExecuteTime": {
     "end_time": "2024-08-02T02:14:42.222608Z",
     "start_time": "2024-08-02T02:14:42.209861Z"
    }
   },
   "cell_type": "code",
   "source": [
    "dict_frecuency4 = {\n",
    "    'Sí':2,\n",
    "    'No':1,\n",
    "    'No sabe':0,\n",
    "    'No está seguro':0\n",
    "}"
   ],
   "id": "2f84c8eb8840adb9",
   "outputs": [],
   "execution_count": 238
  },
  {
   "metadata": {
    "ExecuteTime": {
     "end_time": "2024-08-02T02:14:42.237877Z",
     "start_time": "2024-08-02T02:14:42.225055Z"
    }
   },
   "cell_type": "code",
   "source": [
    "field_name = 'estrategia_comunicacion_clara'\n",
    "convert_colum_categorical_to_numeric(field_name,dict_frecuency4)\n",
    "df[field_name].drop_duplicates().reset_index(drop=True)"
   ],
   "id": "c7f6b1daabf15b43",
   "outputs": [
    {
     "data": {
      "text/plain": [
       "0    2\n",
       "1    1\n",
       "2    0\n",
       "Name: estrategia_comunicacion_clara, dtype: int64"
      ]
     },
     "execution_count": 239,
     "metadata": {},
     "output_type": "execute_result"
    }
   ],
   "execution_count": 239
  },
  {
   "metadata": {
    "ExecuteTime": {
     "end_time": "2024-08-02T02:14:42.268920Z",
     "start_time": "2024-08-02T02:14:42.242759Z"
    }
   },
   "cell_type": "code",
   "source": [
    "field_name = 'estrategia_comunicacion_suficiente'\n",
    "convert_colum_categorical_to_numeric(field_name,dict_frecuency4)\n",
    "df[field_name].drop_duplicates().reset_index(drop=True)"
   ],
   "id": "8e172899d6e20c6b",
   "outputs": [
    {
     "data": {
      "text/plain": [
       "0    2\n",
       "1    1\n",
       "2    0\n",
       "Name: estrategia_comunicacion_suficiente, dtype: int64"
      ]
     },
     "execution_count": 240,
     "metadata": {},
     "output_type": "execute_result"
    }
   ],
   "execution_count": 240
  },
  {
   "metadata": {
    "ExecuteTime": {
     "end_time": "2024-08-02T02:14:42.284550Z",
     "start_time": "2024-08-02T02:14:42.272167Z"
    }
   },
   "cell_type": "code",
   "source": [
    "field_name = 'estrategia_comunicacion_veridica'\n",
    "convert_colum_categorical_to_numeric(field_name,dict_frecuency4)\n",
    "df[field_name].drop_duplicates().reset_index(drop=True)"
   ],
   "id": "191100ae589e8d90",
   "outputs": [
    {
     "data": {
      "text/plain": [
       "0    2\n",
       "1    0\n",
       "2    1\n",
       "Name: estrategia_comunicacion_veridica, dtype: int64"
      ]
     },
     "execution_count": 241,
     "metadata": {},
     "output_type": "execute_result"
    }
   ],
   "execution_count": 241
  },
  {
   "metadata": {
    "ExecuteTime": {
     "end_time": "2024-08-02T02:14:42.315609Z",
     "start_time": "2024-08-02T02:14:42.288687Z"
    }
   },
   "cell_type": "code",
   "source": [
    "field_name = 'estrategia_comunicacion_oportuna'\n",
    "convert_colum_categorical_to_numeric(field_name,dict_frecuency4)\n",
    "df[field_name].drop_duplicates().reset_index(drop=True)"
   ],
   "id": "d7f6034f9a2e4caa",
   "outputs": [
    {
     "data": {
      "text/plain": [
       "0    2\n",
       "1    1\n",
       "2    0\n",
       "Name: estrategia_comunicacion_oportuna, dtype: int64"
      ]
     },
     "execution_count": 242,
     "metadata": {},
     "output_type": "execute_result"
    }
   ],
   "execution_count": 242
  },
  {
   "metadata": {
    "ExecuteTime": {
     "end_time": "2024-08-02T02:14:42.346633Z",
     "start_time": "2024-08-02T02:14:42.318588Z"
    }
   },
   "cell_type": "code",
   "source": [
    "field_name = 'estrategia_comunicacion_contradictoria'\n",
    "convert_colum_categorical_to_numeric(field_name,dict_frecuency4)\n",
    "df[field_name].drop_duplicates().reset_index(drop=True)"
   ],
   "id": "537b641fb440330e",
   "outputs": [
    {
     "data": {
      "text/plain": [
       "0    1\n",
       "1    2\n",
       "2    0\n",
       "Name: estrategia_comunicacion_contradictoria, dtype: int64"
      ]
     },
     "execution_count": 243,
     "metadata": {},
     "output_type": "execute_result"
    }
   ],
   "execution_count": 243
  },
  {
   "metadata": {
    "ExecuteTime": {
     "end_time": "2024-08-02T02:14:42.361991Z",
     "start_time": "2024-08-02T02:14:42.348821Z"
    }
   },
   "cell_type": "code",
   "source": [
    "field_name = 'sabe_actuar_sospechas_contagio'\n",
    "convert_colum_categorical_to_numeric(field_name,dict_frecuency4)\n",
    "df[field_name].drop_duplicates().reset_index(drop=True)"
   ],
   "id": "1e073942f65e8407",
   "outputs": [
    {
     "data": {
      "text/plain": [
       "0    2.0\n",
       "1    1.0\n",
       "Name: sabe_actuar_sospechas_contagio, dtype: float64"
      ]
     },
     "execution_count": 244,
     "metadata": {},
     "output_type": "execute_result"
    }
   ],
   "execution_count": 244
  },
  {
   "metadata": {
    "ExecuteTime": {
     "end_time": "2024-08-02T02:14:42.392619Z",
     "start_time": "2024-08-02T02:14:42.365758Z"
    }
   },
   "cell_type": "code",
   "source": [
    "field_name = 'diagnostico_COVID'\n",
    "convert_colum_categorical_to_numeric(field_name,dict_frecuency4)\n",
    "df[field_name].drop_duplicates().reset_index(drop=True)"
   ],
   "id": "b1e6a96ec71f54fb",
   "outputs": [
    {
     "data": {
      "text/plain": [
       "0    1.0\n",
       "1    2.0\n",
       "Name: diagnostico_COVID, dtype: float64"
      ]
     },
     "execution_count": 245,
     "metadata": {},
     "output_type": "execute_result"
    }
   ],
   "execution_count": 245
  },
  {
   "metadata": {
    "ExecuteTime": {
     "end_time": "2024-08-02T02:14:42.423081Z",
     "start_time": "2024-08-02T02:14:42.394604Z"
    }
   },
   "cell_type": "code",
   "source": [
    "field_name = 'info_suficiente_COVID'\n",
    "convert_colum_categorical_to_numeric(field_name,dict_frecuency4)\n",
    "df[field_name].drop_duplicates().reset_index(drop=True)"
   ],
   "id": "8a309fc9781a76a5",
   "outputs": [
    {
     "data": {
      "text/plain": [
       "0    2.0\n",
       "1    1.0\n",
       "Name: info_suficiente_COVID, dtype: float64"
      ]
     },
     "execution_count": 246,
     "metadata": {},
     "output_type": "execute_result"
    }
   ],
   "execution_count": 246
  },
  {
   "metadata": {
    "ExecuteTime": {
     "end_time": "2024-08-02T02:14:42.438372Z",
     "start_time": "2024-08-02T02:14:42.426347Z"
    }
   },
   "cell_type": "code",
   "source": "df['info_riesgos_COVID_alcaldia'].drop_duplicates().reset_index(drop=True)",
   "id": "c25296fc8428de26",
   "outputs": [
    {
     "data": {
      "text/plain": [
       "0       Precisa\n",
       "1     Exagerada\n",
       "2    Minimizada\n",
       "3           NaN\n",
       "Name: info_riesgos_COVID_alcaldia, dtype: object"
      ]
     },
     "execution_count": 247,
     "metadata": {},
     "output_type": "execute_result"
    }
   ],
   "execution_count": 247
  },
  {
   "metadata": {
    "ExecuteTime": {
     "end_time": "2024-08-02T02:14:42.453662Z",
     "start_time": "2024-08-02T02:14:42.441404Z"
    }
   },
   "cell_type": "code",
   "source": [
    "dict_frecuency5 = {\n",
    "    'Precisa':2,\n",
    "    'Exagerada':1,\n",
    "    'Minimizada':0\n",
    "}"
   ],
   "id": "936dea18ef39302a",
   "outputs": [],
   "execution_count": 248
  },
  {
   "metadata": {
    "ExecuteTime": {
     "end_time": "2024-08-02T02:14:42.501159Z",
     "start_time": "2024-08-02T02:14:42.487401Z"
    }
   },
   "cell_type": "code",
   "source": [
    "field_name = 'info_riesgos_COVID_alcaldia'\n",
    "convert_colum_categorical_to_numeric(field_name,dict_frecuency5)\n",
    "df[field_name].drop_duplicates().reset_index(drop=True)"
   ],
   "id": "9006b4bc102ac1c2",
   "outputs": [
    {
     "data": {
      "text/plain": [
       "0    2.0\n",
       "1    1.0\n",
       "2    0.0\n",
       "Name: info_riesgos_COVID_alcaldia, dtype: float64"
      ]
     },
     "execution_count": 249,
     "metadata": {},
     "output_type": "execute_result"
    }
   ],
   "execution_count": 249
  },
  {
   "metadata": {
    "ExecuteTime": {
     "end_time": "2024-08-02T02:14:42.547025Z",
     "start_time": "2024-08-02T02:14:42.535560Z"
    }
   },
   "cell_type": "code",
   "source": "df['ansiedad_cuarentena'].drop_duplicates().reset_index(drop=True)",
   "id": "45f4bda5f2a4e9f3",
   "outputs": [
    {
     "data": {
      "text/plain": [
       "0        Mucho más que antes\n",
       "1      Un poco más que antes\n",
       "2      Mucho menos que antes\n",
       "3            Igual que antes\n",
       "4    Un poco menos que antes\n",
       "Name: ansiedad_cuarentena, dtype: object"
      ]
     },
     "execution_count": 250,
     "metadata": {},
     "output_type": "execute_result"
    }
   ],
   "execution_count": 250
  },
  {
   "metadata": {
    "ExecuteTime": {
     "end_time": "2024-08-02T02:14:42.609773Z",
     "start_time": "2024-08-02T02:14:42.590259Z"
    }
   },
   "cell_type": "code",
   "source": [
    "dict_frecuency6 = {\n",
    "    'Mucho más que antes':5,\n",
    "    'Un poco más que antes':4,\n",
    "    'Igual que antes':3,\n",
    "    'Un poco menos que antes':2,\n",
    "    'Mucho menos que antes':1,\n",
    "    'No consumo':0\n",
    "}"
   ],
   "id": "4cc8a0b8d1d9944f",
   "outputs": [],
   "execution_count": 251
  },
  {
   "metadata": {
    "ExecuteTime": {
     "end_time": "2024-08-02T02:14:42.647884Z",
     "start_time": "2024-08-02T02:14:42.615802Z"
    }
   },
   "cell_type": "code",
   "source": [
    "field_name = 'ansiedad_cuarentena'\n",
    "convert_colum_categorical_to_numeric(field_name,dict_frecuency6)\n",
    "df[field_name].drop_duplicates().reset_index(drop=True)"
   ],
   "id": "2bd155f8a9740782",
   "outputs": [
    {
     "data": {
      "text/plain": [
       "0    5\n",
       "1    4\n",
       "2    1\n",
       "3    3\n",
       "4    2\n",
       "Name: ansiedad_cuarentena, dtype: int64"
      ]
     },
     "execution_count": 252,
     "metadata": {},
     "output_type": "execute_result"
    }
   ],
   "execution_count": 252
  },
  {
   "metadata": {
    "ExecuteTime": {
     "end_time": "2024-08-02T02:14:42.678303Z",
     "start_time": "2024-08-02T02:14:42.651370Z"
    }
   },
   "cell_type": "code",
   "source": [
    "field_name = 'depresion_cuarentena'\n",
    "convert_colum_categorical_to_numeric(field_name,dict_frecuency6)\n",
    "df[field_name].drop_duplicates().reset_index(drop=True)"
   ],
   "id": "95f21d1fafa28585",
   "outputs": [
    {
     "data": {
      "text/plain": [
       "0    5\n",
       "1    4\n",
       "2    1\n",
       "3    3\n",
       "4    2\n",
       "Name: depresion_cuarentena, dtype: int64"
      ]
     },
     "execution_count": 253,
     "metadata": {},
     "output_type": "execute_result"
    }
   ],
   "execution_count": 253
  },
  {
   "metadata": {
    "ExecuteTime": {
     "end_time": "2024-08-02T02:14:42.709838Z",
     "start_time": "2024-08-02T02:14:42.681308Z"
    }
   },
   "cell_type": "code",
   "source": [
    "field_name = 'tranquilidad_cuarentena'\n",
    "convert_colum_categorical_to_numeric(field_name,dict_frecuency6)\n",
    "df[field_name].drop_duplicates().reset_index(drop=True)"
   ],
   "id": "90ebb3eb5b62c0f6",
   "outputs": [
    {
     "data": {
      "text/plain": [
       "0    2\n",
       "1    5\n",
       "2    3\n",
       "3    1\n",
       "4    4\n",
       "Name: tranquilidad_cuarentena, dtype: int64"
      ]
     },
     "execution_count": 254,
     "metadata": {},
     "output_type": "execute_result"
    }
   ],
   "execution_count": 254
  },
  {
   "metadata": {
    "ExecuteTime": {
     "end_time": "2024-08-02T02:14:42.725860Z",
     "start_time": "2024-08-02T02:14:42.712974Z"
    }
   },
   "cell_type": "code",
   "source": [
    "field_name = 'cercania_convive_cuarentena'\n",
    "convert_colum_categorical_to_numeric(field_name,dict_frecuency6)\n",
    "df[field_name].drop_duplicates().reset_index(drop=True)"
   ],
   "id": "66705f58cd3bf2b9",
   "outputs": [
    {
     "data": {
      "text/plain": [
       "0    5\n",
       "1    4\n",
       "2    3\n",
       "3    1\n",
       "4    2\n",
       "Name: cercania_convive_cuarentena, dtype: int64"
      ]
     },
     "execution_count": 255,
     "metadata": {},
     "output_type": "execute_result"
    }
   ],
   "execution_count": 255
  },
  {
   "metadata": {
    "ExecuteTime": {
     "end_time": "2024-08-02T02:14:42.756978Z",
     "start_time": "2024-08-02T02:14:42.730400Z"
    }
   },
   "cell_type": "code",
   "source": [
    "field_name = 'interes_placer_cuarentena'\n",
    "convert_colum_categorical_to_numeric(field_name,dict_frecuency6)\n",
    "df[field_name].drop_duplicates().reset_index(drop=True)"
   ],
   "id": "a9c61f8aeef2670d",
   "outputs": [
    {
     "data": {
      "text/plain": [
       "0    2\n",
       "1    5\n",
       "2    3\n",
       "3    4\n",
       "4    1\n",
       "Name: interes_placer_cuarentena, dtype: int64"
      ]
     },
     "execution_count": 256,
     "metadata": {},
     "output_type": "execute_result"
    }
   ],
   "execution_count": 256
  },
  {
   "metadata": {
    "ExecuteTime": {
     "end_time": "2024-08-02T02:14:42.788200Z",
     "start_time": "2024-08-02T02:14:42.760482Z"
    }
   },
   "cell_type": "code",
   "source": [
    "field_name = 'problemas_dormir_cuarentena'\n",
    "convert_colum_categorical_to_numeric(field_name,dict_frecuency6)\n",
    "df[field_name].drop_duplicates().reset_index(drop=True)"
   ],
   "id": "631ee921ca7b8621",
   "outputs": [
    {
     "data": {
      "text/plain": [
       "0    4\n",
       "1    1\n",
       "2    3\n",
       "3    2\n",
       "4    5\n",
       "Name: problemas_dormir_cuarentena, dtype: int64"
      ]
     },
     "execution_count": 257,
     "metadata": {},
     "output_type": "execute_result"
    }
   ],
   "execution_count": 257
  },
  {
   "metadata": {
    "ExecuteTime": {
     "end_time": "2024-08-02T02:14:42.818935Z",
     "start_time": "2024-08-02T02:14:42.791650Z"
    }
   },
   "cell_type": "code",
   "source": [
    "field_name = 'desacuerdos_convive_cuarentena'\n",
    "convert_colum_categorical_to_numeric(field_name,dict_frecuency6)\n",
    "df[field_name].drop_duplicates().reset_index(drop=True)"
   ],
   "id": "3e948192a0438962",
   "outputs": [
    {
     "data": {
      "text/plain": [
       "0    3\n",
       "1    4\n",
       "2    2\n",
       "3    5\n",
       "4    1\n",
       "Name: desacuerdos_convive_cuarentena, dtype: int64"
      ]
     },
     "execution_count": 258,
     "metadata": {},
     "output_type": "execute_result"
    }
   ],
   "execution_count": 258
  },
  {
   "metadata": {
    "ExecuteTime": {
     "end_time": "2024-08-02T02:14:42.849971Z",
     "start_time": "2024-08-02T02:14:42.825637Z"
    }
   },
   "cell_type": "code",
   "source": [
    "field_name = 'necesidad_alcohol_cuarentena'\n",
    "convert_colum_categorical_to_numeric(field_name,dict_frecuency6)\n",
    "df[field_name].drop_duplicates().reset_index(drop=True)"
   ],
   "id": "efdf3c61535a5f47",
   "outputs": [
    {
     "data": {
      "text/plain": [
       "0    0\n",
       "1    2\n",
       "2    4\n",
       "3    3\n",
       "4    1\n",
       "5    5\n",
       "Name: necesidad_alcohol_cuarentena, dtype: int64"
      ]
     },
     "execution_count": 259,
     "metadata": {},
     "output_type": "execute_result"
    }
   ],
   "execution_count": 259
  },
  {
   "metadata": {
    "ExecuteTime": {
     "end_time": "2024-08-02T02:14:42.880713Z",
     "start_time": "2024-08-02T02:14:42.852518Z"
    }
   },
   "cell_type": "code",
   "source": [
    "field_name = 'necesidad_fumar_cuarentena'\n",
    "convert_colum_categorical_to_numeric(field_name,dict_frecuency6)\n",
    "df[field_name].drop_duplicates().reset_index(drop=True)"
   ],
   "id": "dbdd7f9a206f8a69",
   "outputs": [
    {
     "data": {
      "text/plain": [
       "0    0\n",
       "1    1\n",
       "2    3\n",
       "3    2\n",
       "4    4\n",
       "5    5\n",
       "Name: necesidad_fumar_cuarentena, dtype: int64"
      ]
     },
     "execution_count": 260,
     "metadata": {},
     "output_type": "execute_result"
    }
   ],
   "execution_count": 260
  },
  {
   "metadata": {
    "ExecuteTime": {
     "end_time": "2024-08-02T02:14:42.897080Z",
     "start_time": "2024-08-02T02:14:42.884598Z"
    }
   },
   "cell_type": "code",
   "source": [
    "field_name = 'necesidad_sustancias_psicoactivas_cuarentena'\n",
    "convert_colum_categorical_to_numeric(field_name,dict_frecuency6)\n",
    "df[field_name].drop_duplicates().reset_index(drop=True)"
   ],
   "id": "df06ab83c24549b1",
   "outputs": [
    {
     "data": {
      "text/plain": [
       "0    0\n",
       "1    3\n",
       "2    1\n",
       "3    2\n",
       "4    4\n",
       "5    5\n",
       "Name: necesidad_sustancias_psicoactivas_cuarentena, dtype: int64"
      ]
     },
     "execution_count": 261,
     "metadata": {},
     "output_type": "execute_result"
    }
   ],
   "execution_count": 261
  },
  {
   "metadata": {
    "ExecuteTime": {
     "end_time": "2024-08-02T02:14:42.912562Z",
     "start_time": "2024-08-02T02:14:42.898383Z"
    }
   },
   "cell_type": "code",
   "source": "df['apoyo_pareja_cuarentena'].drop_duplicates().reset_index(drop=True)",
   "id": "2d39202a03e26506",
   "outputs": [
    {
     "data": {
      "text/plain": [
       "0    5 Todo el que necesito\n",
       "1                    1 Nada\n",
       "2                         4\n",
       "3                       NaN\n",
       "4                         3\n",
       "5                         2\n",
       "Name: apoyo_pareja_cuarentena, dtype: object"
      ]
     },
     "execution_count": 262,
     "metadata": {},
     "output_type": "execute_result"
    }
   ],
   "execution_count": 262
  },
  {
   "metadata": {
    "ExecuteTime": {
     "end_time": "2024-08-02T02:14:42.928074Z",
     "start_time": "2024-08-02T02:14:42.916102Z"
    }
   },
   "cell_type": "code",
   "source": [
    "dict_frecuency7 = {\n",
    "    '5 Todo el que necesito':5,\n",
    "    '4':4,\n",
    "    '3':3,\n",
    "    '2':2,\n",
    "    '1 Nada':1\n",
    "}"
   ],
   "id": "4dcdd2fce80dfb1b",
   "outputs": [],
   "execution_count": 263
  },
  {
   "metadata": {
    "ExecuteTime": {
     "end_time": "2024-08-02T02:14:42.973869Z",
     "start_time": "2024-08-02T02:14:42.953194Z"
    }
   },
   "cell_type": "code",
   "source": [
    "field_name = 'apoyo_pareja_cuarentena'\n",
    "convert_colum_categorical_to_numeric(field_name,dict_frecuency7)\n",
    "df[field_name].drop_duplicates().reset_index(drop=True)"
   ],
   "id": "244d995ad535e3b9",
   "outputs": [
    {
     "data": {
      "text/plain": [
       "0    5.0\n",
       "1    1.0\n",
       "2    4.0\n",
       "3    3.0\n",
       "4    2.0\n",
       "Name: apoyo_pareja_cuarentena, dtype: float64"
      ]
     },
     "execution_count": 264,
     "metadata": {},
     "output_type": "execute_result"
    }
   ],
   "execution_count": 264
  },
  {
   "metadata": {
    "ExecuteTime": {
     "end_time": "2024-08-02T02:14:43.005094Z",
     "start_time": "2024-08-02T02:14:42.983597Z"
    }
   },
   "cell_type": "code",
   "source": [
    "field_name = 'apoyo_familia_cuarentena'\n",
    "convert_colum_categorical_to_numeric(field_name,dict_frecuency7)\n",
    "df[field_name].drop_duplicates().reset_index(drop=True)"
   ],
   "id": "128084d1de030fba",
   "outputs": [
    {
     "data": {
      "text/plain": [
       "0    5.0\n",
       "1    2.0\n",
       "2    4.0\n",
       "3    3.0\n",
       "4    1.0\n",
       "Name: apoyo_familia_cuarentena, dtype: float64"
      ]
     },
     "execution_count": 265,
     "metadata": {},
     "output_type": "execute_result"
    }
   ],
   "execution_count": 265
  },
  {
   "metadata": {
    "ExecuteTime": {
     "end_time": "2024-08-02T02:14:43.068286Z",
     "start_time": "2024-08-02T02:14:43.042306Z"
    }
   },
   "cell_type": "code",
   "source": [
    "field_name = 'apoyo_amigos_cuarentena'\n",
    "convert_colum_categorical_to_numeric(field_name,dict_frecuency7)\n",
    "df[field_name].drop_duplicates().reset_index(drop=True)"
   ],
   "id": "88b36fa8906a1a5a",
   "outputs": [
    {
     "data": {
      "text/plain": [
       "0    5.0\n",
       "1    3.0\n",
       "2    4.0\n",
       "3    2.0\n",
       "4    1.0\n",
       "Name: apoyo_amigos_cuarentena, dtype: float64"
      ]
     },
     "execution_count": 266,
     "metadata": {},
     "output_type": "execute_result"
    }
   ],
   "execution_count": 266
  },
  {
   "metadata": {
    "ExecuteTime": {
     "end_time": "2024-08-02T02:14:43.114823Z",
     "start_time": "2024-08-02T02:14:43.085529Z"
    }
   },
   "cell_type": "code",
   "source": [
    "field_name = 'apoyo_empleador_entidad_educativa_cuarentena'\n",
    "convert_colum_categorical_to_numeric(field_name,dict_frecuency7)\n",
    "df[field_name].drop_duplicates().reset_index(drop=True)"
   ],
   "id": "d2da6ddba851ffdd",
   "outputs": [
    {
     "data": {
      "text/plain": [
       "0    5.0\n",
       "1    4.0\n",
       "2    2.0\n",
       "3    3.0\n",
       "4    1.0\n",
       "Name: apoyo_empleador_entidad_educativa_cuarentena, dtype: float64"
      ]
     },
     "execution_count": 267,
     "metadata": {},
     "output_type": "execute_result"
    }
   ],
   "execution_count": 267
  },
  {
   "metadata": {
    "ExecuteTime": {
     "end_time": "2024-08-02T02:14:43.145757Z",
     "start_time": "2024-08-02T02:14:43.118170Z"
    }
   },
   "cell_type": "code",
   "source": [
    "field_name = 'apoyo_vecinos_cuarentena'\n",
    "convert_colum_categorical_to_numeric(field_name,dict_frecuency7)\n",
    "df[field_name].drop_duplicates().reset_index(drop=True)"
   ],
   "id": "b289212bf451f051",
   "outputs": [
    {
     "data": {
      "text/plain": [
       "0    1.0\n",
       "1    2.0\n",
       "2    3.0\n",
       "3    4.0\n",
       "4    5.0\n",
       "Name: apoyo_vecinos_cuarentena, dtype: float64"
      ]
     },
     "execution_count": 268,
     "metadata": {},
     "output_type": "execute_result"
    }
   ],
   "execution_count": 268
  },
  {
   "metadata": {
    "ExecuteTime": {
     "end_time": "2024-08-02T02:14:43.177256Z",
     "start_time": "2024-08-02T02:14:43.147780Z"
    }
   },
   "cell_type": "code",
   "source": [
    "field_name = 'apoyo_alcaldia_cuarentena'\n",
    "convert_colum_categorical_to_numeric(field_name,dict_frecuency7)\n",
    "df[field_name].drop_duplicates().reset_index(drop=True)"
   ],
   "id": "681da47c278a0c74",
   "outputs": [
    {
     "data": {
      "text/plain": [
       "0    4.0\n",
       "1    2.0\n",
       "2    3.0\n",
       "3    5.0\n",
       "4    1.0\n",
       "Name: apoyo_alcaldia_cuarentena, dtype: float64"
      ]
     },
     "execution_count": 269,
     "metadata": {},
     "output_type": "execute_result"
    }
   ],
   "execution_count": 269
  },
  {
   "metadata": {
    "ExecuteTime": {
     "end_time": "2024-08-02T02:14:43.207679Z",
     "start_time": "2024-08-02T02:14:43.180098Z"
    }
   },
   "cell_type": "code",
   "source": [
    "field_name = 'apoyo_gobierno_nacional_cuarentena'\n",
    "convert_colum_categorical_to_numeric(field_name,dict_frecuency7)\n",
    "df[field_name].drop_duplicates().reset_index(drop=True)"
   ],
   "id": "15f504b6737b3a1f",
   "outputs": [
    {
     "data": {
      "text/plain": [
       "0    4.0\n",
       "1    2.0\n",
       "2    3.0\n",
       "3    1.0\n",
       "4    5.0\n",
       "Name: apoyo_gobierno_nacional_cuarentena, dtype: float64"
      ]
     },
     "execution_count": 270,
     "metadata": {},
     "output_type": "execute_result"
    }
   ],
   "execution_count": 270
  },
  {
   "metadata": {
    "ExecuteTime": {
     "end_time": "2024-08-02T02:14:43.222960Z",
     "start_time": "2024-08-02T02:14:43.211125Z"
    }
   },
   "cell_type": "code",
   "source": "df['sexo'].drop_duplicates().reset_index(drop=True)",
   "id": "4888f0e6627bc031",
   "outputs": [
    {
     "data": {
      "text/plain": [
       "0                  Mujer\n",
       "1                 Hombre\n",
       "2    Prefiero no decirlo\n",
       "3             No binario\n",
       "4                    NaN\n",
       "Name: sexo, dtype: object"
      ]
     },
     "execution_count": 271,
     "metadata": {},
     "output_type": "execute_result"
    }
   ],
   "execution_count": 271
  },
  {
   "metadata": {
    "ExecuteTime": {
     "end_time": "2024-08-02T02:14:43.238278Z",
     "start_time": "2024-08-02T02:14:43.225249Z"
    }
   },
   "cell_type": "code",
   "source": [
    "dict_frecuency8 = {\n",
    "    'Mujer':4,\n",
    "    'Hombre':3,\n",
    "    'No binario':2,\n",
    "    'Prefiero no decirlo':1\n",
    "}"
   ],
   "id": "cf4d511f7d69bfec",
   "outputs": [],
   "execution_count": 272
  },
  {
   "metadata": {
    "ExecuteTime": {
     "end_time": "2024-08-02T02:14:43.254249Z",
     "start_time": "2024-08-02T02:14:43.241498Z"
    }
   },
   "cell_type": "code",
   "source": [
    "field_name = 'sexo'\n",
    "convert_colum_categorical_to_numeric(field_name,dict_frecuency8)\n",
    "df[field_name].drop_duplicates().reset_index(drop=True)"
   ],
   "id": "f17428209ccab49a",
   "outputs": [
    {
     "data": {
      "text/plain": [
       "0    4.0\n",
       "1    3.0\n",
       "2    1.0\n",
       "3    2.0\n",
       "Name: sexo, dtype: float64"
      ]
     },
     "execution_count": 273,
     "metadata": {},
     "output_type": "execute_result"
    }
   ],
   "execution_count": 273
  },
  {
   "metadata": {},
   "cell_type": "markdown",
   "source": "En el caso de la edad usaré en este análisis numérico la variable edad y no rango_edad",
   "id": "33cb1da224a81fa"
  },
  {
   "metadata": {
    "ExecuteTime": {
     "end_time": "2024-08-02T02:14:43.269521Z",
     "start_time": "2024-08-02T02:14:43.261751Z"
    }
   },
   "cell_type": "code",
   "source": "df['edad'].dtype",
   "id": "25968d789c01a10f",
   "outputs": [
    {
     "data": {
      "text/plain": [
       "dtype('float64')"
      ]
     },
     "execution_count": 274,
     "metadata": {},
     "output_type": "execute_result"
    }
   ],
   "execution_count": 274
  },
  {
   "metadata": {
    "ExecuteTime": {
     "end_time": "2024-08-02T02:14:43.310569Z",
     "start_time": "2024-08-02T02:14:43.297273Z"
    }
   },
   "cell_type": "code",
   "source": [
    "field_name = 'diagnostico_enfermedades'\n",
    "convert_colum_categorical_to_numeric(field_name,dict_frecuency4)\n",
    "df[field_name].drop_duplicates().reset_index(drop=True)"
   ],
   "id": "6cbab698c5a96a3b",
   "outputs": [
    {
     "data": {
      "text/plain": [
       "0    2.0\n",
       "1    1.0\n",
       "2    0.0\n",
       "Name: diagnostico_enfermedades, dtype: float64"
      ]
     },
     "execution_count": 275,
     "metadata": {},
     "output_type": "execute_result"
    }
   ],
   "execution_count": 275
  },
  {
   "metadata": {
    "ExecuteTime": {
     "end_time": "2024-08-02T02:14:43.373806Z",
     "start_time": "2024-08-02T02:14:43.348989Z"
    }
   },
   "cell_type": "code",
   "source": "df['nivel_educativo'].drop_duplicates().reset_index(drop=True)",
   "id": "ec64ab2ad47a1ac9",
   "outputs": [
    {
     "data": {
      "text/plain": [
       "0            Título universitario\n",
       "1              Título de posgrado\n",
       "2    Título técnico o tecnológico\n",
       "3             Secundaria completa\n",
       "4           Secundaria incompleta\n",
       "5                             NaN\n",
       "6               Primaria completa\n",
       "7             Primaria incompleta\n",
       "Name: nivel_educativo, dtype: object"
      ]
     },
     "execution_count": 276,
     "metadata": {},
     "output_type": "execute_result"
    }
   ],
   "execution_count": 276
  },
  {
   "metadata": {
    "ExecuteTime": {
     "end_time": "2024-08-02T02:14:43.389253Z",
     "start_time": "2024-08-02T02:14:43.381156Z"
    }
   },
   "cell_type": "code",
   "source": [
    "dict_frecuency9 = {\n",
    "    'Título de posgrado': 7,\n",
    "    'Título universitario': 6,\n",
    "    'Título técnico o tecnológico': 5,\n",
    "    'Secundaria completa': 4,\n",
    "    'Secundaria incompleta': 3,\n",
    "    'Primaria completa': 2,\n",
    "    'Primaria incompleta': 1,\n",
    "}"
   ],
   "id": "ee5a163f6796022c",
   "outputs": [],
   "execution_count": 277
  },
  {
   "metadata": {
    "ExecuteTime": {
     "end_time": "2024-08-02T02:14:43.435001Z",
     "start_time": "2024-08-02T02:14:43.413167Z"
    }
   },
   "cell_type": "code",
   "source": [
    "field_name = 'nivel_educativo'\n",
    "convert_colum_categorical_to_numeric(field_name,dict_frecuency9)\n",
    "df[field_name].drop_duplicates().reset_index(drop=True)"
   ],
   "id": "bd3e255d96ba61a8",
   "outputs": [
    {
     "data": {
      "text/plain": [
       "0    6.0\n",
       "1    7.0\n",
       "2    5.0\n",
       "3    4.0\n",
       "4    3.0\n",
       "5    2.0\n",
       "6    1.0\n",
       "Name: nivel_educativo, dtype: float64"
      ]
     },
     "execution_count": 278,
     "metadata": {},
     "output_type": "execute_result"
    }
   ],
   "execution_count": 278
  },
  {
   "metadata": {
    "ExecuteTime": {
     "end_time": "2024-08-02T02:14:43.465942Z",
     "start_time": "2024-08-02T02:14:43.446496Z"
    }
   },
   "cell_type": "code",
   "source": "df['localidad_residencia'].drop_duplicates().reset_index(drop=True)",
   "id": "d2120bf9a11bd268",
   "outputs": [
    {
     "data": {
      "text/plain": [
       "0                Fontibón\n",
       "1                    Suba\n",
       "2     No reside en Bogotá\n",
       "3                Engativá\n",
       "4          Ciudad Bolívar\n",
       "5             Teusaquillo\n",
       "6               Chapinero\n",
       "7                Santa Fe\n",
       "8                 Usaquén\n",
       "9           Puente Aranda\n",
       "10         Barrios Unidos\n",
       "11                Kennedy\n",
       "12             Tunjuelito\n",
       "13           Los Mártires\n",
       "14                   Bosa\n",
       "15          La Candelaria\n",
       "16     Rafael Uribe Uribe\n",
       "17         Antonio Nariño\n",
       "18          San Cristóbal\n",
       "19                No sabe\n",
       "20                   Usme\n",
       "21                Sumapaz\n",
       "Name: localidad_residencia, dtype: object"
      ]
     },
     "execution_count": 279,
     "metadata": {},
     "output_type": "execute_result"
    }
   ],
   "execution_count": 279
  },
  {
   "metadata": {
    "ExecuteTime": {
     "end_time": "2024-08-02T02:14:43.496066Z",
     "start_time": "2024-08-02T02:14:43.482920Z"
    }
   },
   "cell_type": "code",
   "source": [
    "localidades = df['localidad_residencia'].drop_duplicates().reset_index(drop=True).to_list()\n",
    "localidades.remove('No sabe')\n",
    "x = 1\n",
    "dict_frecuency10 = {}\n",
    "for localidad in localidades:\n",
    "    dict_frecuency10[localidad] = x\n",
    "    x += 1\n",
    "dict_frecuency10['No sabe'] = 0\n",
    "dict_frecuency10"
   ],
   "id": "58811815b5f8cdab",
   "outputs": [
    {
     "data": {
      "text/plain": [
       "{'Fontibón': 1,\n",
       " 'Suba': 2,\n",
       " 'No reside en Bogotá': 3,\n",
       " 'Engativá': 4,\n",
       " 'Ciudad Bolívar': 5,\n",
       " 'Teusaquillo': 6,\n",
       " 'Chapinero': 7,\n",
       " 'Santa Fe': 8,\n",
       " 'Usaquén': 9,\n",
       " 'Puente Aranda': 10,\n",
       " 'Barrios Unidos': 11,\n",
       " 'Kennedy': 12,\n",
       " 'Tunjuelito': 13,\n",
       " 'Los Mártires': 14,\n",
       " 'Bosa': 15,\n",
       " 'La Candelaria': 16,\n",
       " 'Rafael Uribe Uribe': 17,\n",
       " 'Antonio Nariño': 18,\n",
       " 'San Cristóbal': 19,\n",
       " 'Usme': 20,\n",
       " 'Sumapaz': 21,\n",
       " 'No sabe': 0}"
      ]
     },
     "execution_count": 280,
     "metadata": {},
     "output_type": "execute_result"
    }
   ],
   "execution_count": 280
  },
  {
   "metadata": {
    "ExecuteTime": {
     "end_time": "2024-08-02T02:14:43.527539Z",
     "start_time": "2024-08-02T02:14:43.510768Z"
    }
   },
   "cell_type": "code",
   "source": [
    "field_name = 'localidad_residencia'\n",
    "convert_colum_categorical_to_numeric(field_name,dict_frecuency10)\n",
    "df[field_name].drop_duplicates().reset_index(drop=True)"
   ],
   "id": "6aefb7e34a339710",
   "outputs": [
    {
     "data": {
      "text/plain": [
       "0      1\n",
       "1      2\n",
       "2      3\n",
       "3      4\n",
       "4      5\n",
       "5      6\n",
       "6      7\n",
       "7      8\n",
       "8      9\n",
       "9     10\n",
       "10    11\n",
       "11    12\n",
       "12    13\n",
       "13    14\n",
       "14    15\n",
       "15    16\n",
       "16    17\n",
       "17    18\n",
       "18    19\n",
       "19     0\n",
       "20    20\n",
       "21    21\n",
       "Name: localidad_residencia, dtype: int64"
      ]
     },
     "execution_count": 281,
     "metadata": {},
     "output_type": "execute_result"
    }
   ],
   "execution_count": 281
  },
  {
   "metadata": {
    "ExecuteTime": {
     "end_time": "2024-08-02T02:14:43.558321Z",
     "start_time": "2024-08-02T02:14:43.537465Z"
    }
   },
   "cell_type": "code",
   "source": "df['situacion_laboral'].drop_duplicates().reset_index(drop=True)",
   "id": "b5dc0aa39bc16bb7",
   "outputs": [
    {
     "data": {
      "text/plain": [
       "0                                          Independiente\n",
       "1                                               Empleado\n",
       "2                                            Desempleado\n",
       "3                Vinculación por prestación de servicios\n",
       "4                                             Pensionado\n",
       "                             ...                        \n",
       "120                                         Líder social\n",
       "121                                  Contratista por ops\n",
       "122                                              Traders\n",
       "123                             Prestación de  servicios\n",
       "124    Contratista con contrato Vigente hasta 21 de J...\n",
       "Name: situacion_laboral, Length: 125, dtype: object"
      ]
     },
     "execution_count": 282,
     "metadata": {},
     "output_type": "execute_result"
    }
   ],
   "execution_count": 282
  },
  {
   "metadata": {
    "ExecuteTime": {
     "end_time": "2024-08-02T02:14:43.589094Z",
     "start_time": "2024-08-02T02:14:43.568439Z"
    }
   },
   "cell_type": "code",
   "source": [
    "field_name = 'condiciones_vivienda_tranquilidad_comodidad'\n",
    "convert_colum_categorical_to_numeric(field_name,dict_frecuency4)\n",
    "df[field_name].drop_duplicates().reset_index(drop=True)"
   ],
   "id": "db595e66430c33c5",
   "outputs": [
    {
     "data": {
      "text/plain": [
       "0    2.0\n",
       "1    1.0\n",
       "Name: condiciones_vivienda_tranquilidad_comodidad, dtype: float64"
      ]
     },
     "execution_count": 283,
     "metadata": {},
     "output_type": "execute_result"
    }
   ],
   "execution_count": 283
  },
  {
   "metadata": {
    "ExecuteTime": {
     "end_time": "2024-08-02T02:14:43.604655Z",
     "start_time": "2024-08-02T02:14:43.591089Z"
    }
   },
   "cell_type": "code",
   "source": "df['num_personas_hogar'].drop_duplicates().reset_index(drop=True)",
   "id": "24d9475833437de1",
   "outputs": [
    {
     "data": {
      "text/plain": [
       "0             Cuatro\n",
       "1                Dos\n",
       "2               Tres\n",
       "3    Una (vivo solo)\n",
       "4              Cinco\n",
       "5         Seis o más\n",
       "6                NaN\n",
       "Name: num_personas_hogar, dtype: object"
      ]
     },
     "execution_count": 284,
     "metadata": {},
     "output_type": "execute_result"
    }
   ],
   "execution_count": 284
  },
  {
   "metadata": {
    "ExecuteTime": {
     "end_time": "2024-08-02T02:14:43.619794Z",
     "start_time": "2024-08-02T02:14:43.606899Z"
    }
   },
   "cell_type": "code",
   "source": "df['num_personas_5_menos'].drop_duplicates().reset_index(drop=True)",
   "id": "13b2e3fe6ba6d8aa",
   "outputs": [
    {
     "data": {
      "text/plain": [
       "0           Una\n",
       "1       Ninguna\n",
       "2           Dos\n",
       "3        Cuatro\n",
       "4          Tres\n",
       "5    Seis o más\n",
       "6         Cinco\n",
       "Name: num_personas_5_menos, dtype: object"
      ]
     },
     "execution_count": 285,
     "metadata": {},
     "output_type": "execute_result"
    }
   ],
   "execution_count": 285
  },
  {
   "metadata": {
    "ExecuteTime": {
     "end_time": "2024-08-02T02:14:43.635390Z",
     "start_time": "2024-08-02T02:14:43.622347Z"
    }
   },
   "cell_type": "code",
   "source": [
    "dict_frecuency11 = {\n",
    "    'Ninguna':0,\n",
    "    'Una':1,\n",
    "    'Una (vivo solo)':1,\n",
    "    'Dos':2,\n",
    "    'Tres':3,\n",
    "    'Cuatro':4,\n",
    "    'Cinco':5,\n",
    "    'Seis o más':6\n",
    "}"
   ],
   "id": "5d785eacf63ae4a9",
   "outputs": [],
   "execution_count": 286
  },
  {
   "metadata": {
    "ExecuteTime": {
     "end_time": "2024-08-02T02:14:43.665680Z",
     "start_time": "2024-08-02T02:14:43.641719Z"
    }
   },
   "cell_type": "code",
   "source": [
    "field_name = 'num_personas_hogar'\n",
    "convert_colum_categorical_to_numeric(field_name,dict_frecuency11)\n",
    "df[field_name].drop_duplicates().reset_index(drop=True)"
   ],
   "id": "74632969602df22b",
   "outputs": [
    {
     "data": {
      "text/plain": [
       "0    4.0\n",
       "1    2.0\n",
       "2    3.0\n",
       "3    1.0\n",
       "4    5.0\n",
       "5    6.0\n",
       "Name: num_personas_hogar, dtype: float64"
      ]
     },
     "execution_count": 287,
     "metadata": {},
     "output_type": "execute_result"
    }
   ],
   "execution_count": 287
  },
  {
   "metadata": {
    "ExecuteTime": {
     "end_time": "2024-08-02T02:14:43.681769Z",
     "start_time": "2024-08-02T02:14:43.668274Z"
    }
   },
   "cell_type": "code",
   "source": [
    "field_name = 'num_personas_5_menos'\n",
    "convert_colum_categorical_to_numeric(field_name,dict_frecuency11)\n",
    "df[field_name].drop_duplicates().reset_index(drop=True)"
   ],
   "id": "875c9033627dd5d0",
   "outputs": [
    {
     "data": {
      "text/plain": [
       "0    1\n",
       "1    0\n",
       "2    2\n",
       "3    4\n",
       "4    3\n",
       "5    6\n",
       "6    5\n",
       "Name: num_personas_5_menos, dtype: int64"
      ]
     },
     "execution_count": 288,
     "metadata": {},
     "output_type": "execute_result"
    }
   ],
   "execution_count": 288
  },
  {
   "metadata": {
    "ExecuteTime": {
     "end_time": "2024-08-02T02:14:43.697118Z",
     "start_time": "2024-08-02T02:14:43.683889Z"
    }
   },
   "cell_type": "code",
   "source": [
    "field_name = 'num_personas_6_18'\n",
    "convert_colum_categorical_to_numeric(field_name,dict_frecuency11)\n",
    "df[field_name].drop_duplicates().reset_index(drop=True)"
   ],
   "id": "f623049f46efcfdd",
   "outputs": [
    {
     "data": {
      "text/plain": [
       "0    1\n",
       "1    0\n",
       "2    2\n",
       "3    3\n",
       "4    4\n",
       "5    5\n",
       "6    6\n",
       "Name: num_personas_6_18, dtype: int64"
      ]
     },
     "execution_count": 289,
     "metadata": {},
     "output_type": "execute_result"
    }
   ],
   "execution_count": 289
  },
  {
   "metadata": {
    "ExecuteTime": {
     "end_time": "2024-08-02T02:14:43.713017Z",
     "start_time": "2024-08-02T02:14:43.699551Z"
    }
   },
   "cell_type": "code",
   "source": [
    "field_name = 'num_personas_19_64'\n",
    "convert_colum_categorical_to_numeric(field_name,dict_frecuency11)\n",
    "df[field_name].drop_duplicates().reset_index(drop=True)"
   ],
   "id": "3c07f90d47f66995",
   "outputs": [
    {
     "data": {
      "text/plain": [
       "0    2\n",
       "1    1\n",
       "2    3\n",
       "3    4\n",
       "4    0\n",
       "5    5\n",
       "6    6\n",
       "Name: num_personas_19_64, dtype: int64"
      ]
     },
     "execution_count": 290,
     "metadata": {},
     "output_type": "execute_result"
    }
   ],
   "execution_count": 290
  },
  {
   "metadata": {
    "ExecuteTime": {
     "end_time": "2024-08-02T02:14:43.728582Z",
     "start_time": "2024-08-02T02:14:43.715003Z"
    }
   },
   "cell_type": "code",
   "source": [
    "field_name = 'num_personas_65_mas'\n",
    "convert_colum_categorical_to_numeric(field_name,dict_frecuency11)\n",
    "df[field_name].drop_duplicates().reset_index(drop=True)"
   ],
   "id": "10ce485485ca8242",
   "outputs": [
    {
     "data": {
      "text/plain": [
       "0    0\n",
       "1    1\n",
       "2    2\n",
       "3    4\n",
       "4    3\n",
       "5    6\n",
       "6    5\n",
       "Name: num_personas_65_mas, dtype: int64"
      ]
     },
     "execution_count": 291,
     "metadata": {},
     "output_type": "execute_result"
    }
   ],
   "execution_count": 291
  },
  {
   "metadata": {
    "ExecuteTime": {
     "end_time": "2024-08-02T02:14:43.759582Z",
     "start_time": "2024-08-02T02:14:43.732589Z"
    }
   },
   "cell_type": "code",
   "source": [
    "field_name = 'oportunidad_expresar_sentimientos'\n",
    "convert_colum_categorical_to_numeric(field_name,dict_frecuency4)\n",
    "df[field_name].drop_duplicates().reset_index(drop=True)"
   ],
   "id": "6126ca507c0682b3",
   "outputs": [
    {
     "data": {
      "text/plain": [
       "0    2.0\n",
       "1    1.0\n",
       "Name: oportunidad_expresar_sentimientos, dtype: float64"
      ]
     },
     "execution_count": 292,
     "metadata": {},
     "output_type": "execute_result"
    }
   ],
   "execution_count": 292
  },
  {
   "metadata": {
    "ExecuteTime": {
     "end_time": "2024-08-02T02:14:43.796154Z",
     "start_time": "2024-08-02T02:14:43.764966Z"
    }
   },
   "cell_type": "code",
   "source": "df['frecuencia_actividad_fisica_mes'].drop_duplicates().reset_index(drop=True)",
   "id": "91877956b65f790c",
   "outputs": [
    {
     "data": {
      "text/plain": [
       "0                     Ninguna vez\n",
       "1    Menos de una vez a la semana\n",
       "2      Más de una vez a la semana\n",
       "3             Una vez a la semana\n",
       "4                             NaN\n",
       "Name: frecuencia_actividad_fisica_mes, dtype: object"
      ]
     },
     "execution_count": 293,
     "metadata": {},
     "output_type": "execute_result"
    }
   ],
   "execution_count": 293
  },
  {
   "metadata": {
    "ExecuteTime": {
     "end_time": "2024-08-02T02:14:43.811146Z",
     "start_time": "2024-08-02T02:14:43.801455Z"
    }
   },
   "cell_type": "code",
   "source": [
    "dict_frecuency12 = {\n",
    "    'Ninguna vez':0,\n",
    "    'Una vez a la semana':1,\n",
    "    'Menos de una vez a la semana':2,    \n",
    "    'Más de una vez a la semana':3\n",
    "}"
   ],
   "id": "662321ca134e3ff1",
   "outputs": [],
   "execution_count": 294
  },
  {
   "metadata": {
    "ExecuteTime": {
     "end_time": "2024-08-02T02:14:43.842582Z",
     "start_time": "2024-08-02T02:14:43.817299Z"
    }
   },
   "cell_type": "code",
   "source": [
    "field_name = 'frecuencia_actividad_fisica_mes'\n",
    "convert_colum_categorical_to_numeric(field_name,dict_frecuency12)\n",
    "df[field_name].drop_duplicates().reset_index(drop=True)"
   ],
   "id": "cf7b683fc334299",
   "outputs": [
    {
     "data": {
      "text/plain": [
       "0    0.0\n",
       "1    2.0\n",
       "2    3.0\n",
       "3    1.0\n",
       "Name: frecuencia_actividad_fisica_mes, dtype: float64"
      ]
     },
     "execution_count": 295,
     "metadata": {},
     "output_type": "execute_result"
    }
   ],
   "execution_count": 295
  },
  {
   "metadata": {
    "ExecuteTime": {
     "end_time": "2024-08-02T02:14:43.873999Z",
     "start_time": "2024-08-02T02:14:43.855673Z"
    }
   },
   "cell_type": "code",
   "source": [
    "field_name = 'diagnostico_salud_mental'\n",
    "convert_colum_categorical_to_numeric(field_name,dict_frecuency4)\n",
    "df[field_name].drop_duplicates().reset_index(drop=True)"
   ],
   "id": "47f5a6689d521d27",
   "outputs": [
    {
     "data": {
      "text/plain": [
       "0    1.0\n",
       "1    2.0\n",
       "2    0.0\n",
       "Name: diagnostico_salud_mental, dtype: float64"
      ]
     },
     "execution_count": 296,
     "metadata": {},
     "output_type": "execute_result"
    }
   ],
   "execution_count": 296
  },
  {
   "metadata": {
    "ExecuteTime": {
     "end_time": "2024-08-02T02:14:43.889629Z",
     "start_time": "2024-08-02T02:14:43.884469Z"
    }
   },
   "cell_type": "code",
   "source": "dict_frecuency4['No aplica']=-1",
   "id": "1d2ebb063fdd8b88",
   "outputs": [],
   "execution_count": 297
  },
  {
   "metadata": {
    "ExecuteTime": {
     "end_time": "2024-08-02T02:14:43.936850Z",
     "start_time": "2024-08-02T02:14:43.916598Z"
    }
   },
   "cell_type": "code",
   "source": [
    "field_name = 'continuidad_tratamiento_salud_mental'\n",
    "convert_colum_categorical_to_numeric(field_name,dict_frecuency4)\n",
    "df[field_name].drop_duplicates().reset_index(drop=True)"
   ],
   "id": "35cab0658b73f5df",
   "outputs": [
    {
     "data": {
      "text/plain": [
       "0   -1.0\n",
       "1    2.0\n",
       "2    1.0\n",
       "3    0.0\n",
       "Name: continuidad_tratamiento_salud_mental, dtype: float64"
      ]
     },
     "execution_count": 298,
     "metadata": {},
     "output_type": "execute_result"
    }
   ],
   "execution_count": 298
  },
  {
   "metadata": {
    "ExecuteTime": {
     "end_time": "2024-08-02T02:14:43.967366Z",
     "start_time": "2024-08-02T02:14:43.942957Z"
    }
   },
   "cell_type": "code",
   "source": "df.dtypes",
   "id": "6d119fda37af387c",
   "outputs": [
    {
     "data": {
      "text/plain": [
       "timestamp                                        object\n",
       "confianza_vecinos                               float64\n",
       "frecuencia_habla_vecinos_mes_pasado             float64\n",
       "frecuencia_habla_vecinos_mes_normal             float64\n",
       "frecuencia_habla_amigos_familia_mes_pasado      float64\n",
       "frecuencia_habla_amigos_familia_mes_normal      float64\n",
       "cumplimiento_autocuidado_personal                 int64\n",
       "cumplimiento_autocuidado_familiares               int64\n",
       "cumplimiento_autocuidado_vecinos                  int64\n",
       "estrategia_comunicacion_clara                     int64\n",
       "estrategia_comunicacion_suficiente                int64\n",
       "estrategia_comunicacion_veridica                  int64\n",
       "estrategia_comunicacion_oportuna                  int64\n",
       "estrategia_comunicacion_contradictoria            int64\n",
       "medios_info_alcaldia                             object\n",
       "sabe_actuar_sospechas_contagio                  float64\n",
       "info_suficiente_COVID                           float64\n",
       "info_riesgos_COVID_alcaldia                     float64\n",
       "diagnostico_COVID                               float64\n",
       "ansiedad_cuarentena                               int64\n",
       "depresion_cuarentena                              int64\n",
       "tranquilidad_cuarentena                           int64\n",
       "cercania_convive_cuarentena                       int64\n",
       "interes_placer_cuarentena                         int64\n",
       "problemas_dormir_cuarentena                       int64\n",
       "desacuerdos_convive_cuarentena                    int64\n",
       "necesidad_alcohol_cuarentena                      int64\n",
       "necesidad_fumar_cuarentena                        int64\n",
       "necesidad_sustancias_psicoactivas_cuarentena      int64\n",
       "factores_preocupacion_cuarentena                 object\n",
       "apoyo_pareja_cuarentena                         float64\n",
       "apoyo_familia_cuarentena                        float64\n",
       "apoyo_amigos_cuarentena                         float64\n",
       "apoyo_empleador_entidad_educativa_cuarentena    float64\n",
       "apoyo_vecinos_cuarentena                        float64\n",
       "apoyo_alcaldia_cuarentena                       float64\n",
       "apoyo_gobierno_nacional_cuarentena              float64\n",
       "sexo                                            float64\n",
       "edad                                            float64\n",
       "rango_edad                                       object\n",
       "diagnostico_enfermedades                        float64\n",
       "nivel_educativo                                 float64\n",
       "localidad_residencia                              int64\n",
       "situacion_laboral                                object\n",
       "condiciones_vivienda_tranquilidad_comodidad     float64\n",
       "num_personas_hogar                              float64\n",
       "num_personas_5_menos                              int64\n",
       "num_personas_6_18                                 int64\n",
       "num_personas_19_64                                int64\n",
       "num_personas_65_mas                               int64\n",
       "oportunidad_expresar_sentimientos               float64\n",
       "frecuencia_actividad_fisica_mes                 float64\n",
       "exposicion_violencia_hogar                      float64\n",
       "diagnostico_salud_mental                        float64\n",
       "continuidad_tratamiento_salud_mental            float64\n",
       "dtype: object"
      ]
     },
     "execution_count": 299,
     "metadata": {},
     "output_type": "execute_result"
    }
   ],
   "execution_count": 299
  },
  {
   "metadata": {
    "ExecuteTime": {
     "end_time": "2024-08-02T02:14:44.014380Z",
     "start_time": "2024-08-02T02:14:43.970059Z"
    }
   },
   "cell_type": "code",
   "source": [
    "df_numerico = df.select_dtypes(include='number')\n",
    "df_numerico"
   ],
   "id": "9e4db051ea559785",
   "outputs": [
    {
     "data": {
      "text/plain": [
       "      confianza_vecinos  frecuencia_habla_vecinos_mes_pasado  \\\n",
       "0                   3.0                                  1.0   \n",
       "1                   2.0                                  1.0   \n",
       "2                   2.0                                  5.0   \n",
       "3                   3.0                                  5.0   \n",
       "4                   3.0                                  4.0   \n",
       "...                 ...                                  ...   \n",
       "4993                1.0                                  2.0   \n",
       "4994                1.0                                  1.0   \n",
       "4995                3.0                                  4.0   \n",
       "4996                2.0                                  3.0   \n",
       "4997                2.0                                  5.0   \n",
       "\n",
       "      frecuencia_habla_vecinos_mes_normal  \\\n",
       "0                                     4.0   \n",
       "1                                     1.0   \n",
       "2                                     5.0   \n",
       "3                                     5.0   \n",
       "4                                     4.0   \n",
       "...                                   ...   \n",
       "4993                                  4.0   \n",
       "4994                                  1.0   \n",
       "4995                                  3.0   \n",
       "4996                                  3.0   \n",
       "4997                                  5.0   \n",
       "\n",
       "      frecuencia_habla_amigos_familia_mes_pasado  \\\n",
       "0                                            6.0   \n",
       "1                                            6.0   \n",
       "2                                            6.0   \n",
       "3                                            6.0   \n",
       "4                                            5.0   \n",
       "...                                          ...   \n",
       "4993                                         6.0   \n",
       "4994                                         4.0   \n",
       "4995                                         5.0   \n",
       "4996                                         5.0   \n",
       "4997                                         5.0   \n",
       "\n",
       "      frecuencia_habla_amigos_familia_mes_normal  \\\n",
       "0                                            5.0   \n",
       "1                                            4.0   \n",
       "2                                            6.0   \n",
       "3                                            6.0   \n",
       "4                                            5.0   \n",
       "...                                          ...   \n",
       "4993                                         6.0   \n",
       "4994                                         5.0   \n",
       "4995                                         6.0   \n",
       "4996                                         5.0   \n",
       "4997                                         5.0   \n",
       "\n",
       "      cumplimiento_autocuidado_personal  cumplimiento_autocuidado_familiares  \\\n",
       "0                                     5                                    5   \n",
       "1                                     5                                    4   \n",
       "2                                     5                                    5   \n",
       "3                                     5                                    4   \n",
       "4                                     4                                    4   \n",
       "...                                 ...                                  ...   \n",
       "4993                                  5                                    4   \n",
       "4994                                  4                                    3   \n",
       "4995                                  3                                    3   \n",
       "4996                                  4                                    4   \n",
       "4997                                  5                                    5   \n",
       "\n",
       "      cumplimiento_autocuidado_vecinos  estrategia_comunicacion_clara  \\\n",
       "0                                    5                              2   \n",
       "1                                    3                              1   \n",
       "2                                    3                              2   \n",
       "3                                    4                              2   \n",
       "4                                    4                              2   \n",
       "...                                ...                            ...   \n",
       "4993                                 1                              2   \n",
       "4994                                 3                              2   \n",
       "4995                                 2                              0   \n",
       "4996                                 2                              2   \n",
       "4997                                 3                              2   \n",
       "\n",
       "      estrategia_comunicacion_suficiente  ...  num_personas_hogar  \\\n",
       "0                                      2  ...                 4.0   \n",
       "1                                      1  ...                 2.0   \n",
       "2                                      2  ...                 3.0   \n",
       "3                                      2  ...                 4.0   \n",
       "4                                      0  ...                 1.0   \n",
       "...                                  ...  ...                 ...   \n",
       "4993                                   1  ...                 2.0   \n",
       "4994                                   1  ...                 3.0   \n",
       "4995                                   2  ...                 5.0   \n",
       "4996                                   2  ...                 3.0   \n",
       "4997                                   1  ...                 3.0   \n",
       "\n",
       "      num_personas_5_menos  num_personas_6_18  num_personas_19_64  \\\n",
       "0                        1                  1                   2   \n",
       "1                        0                  0                   1   \n",
       "2                        0                  0                   3   \n",
       "3                        0                  0                   4   \n",
       "4                        0                  0                   1   \n",
       "...                    ...                ...                 ...   \n",
       "4993                     0                  0                   2   \n",
       "4994                     0                  1                   2   \n",
       "4995                     1                  2                   2   \n",
       "4996                     0                  0                   3   \n",
       "4997                     1                  0                   2   \n",
       "\n",
       "      num_personas_65_mas  oportunidad_expresar_sentimientos  \\\n",
       "0                       0                                2.0   \n",
       "1                       0                                2.0   \n",
       "2                       0                                2.0   \n",
       "3                       0                                2.0   \n",
       "4                       0                                2.0   \n",
       "...                   ...                                ...   \n",
       "4993                    0                                1.0   \n",
       "4994                    0                                2.0   \n",
       "4995                    0                                1.0   \n",
       "4996                    0                                2.0   \n",
       "4997                    0                                2.0   \n",
       "\n",
       "      frecuencia_actividad_fisica_mes  exposicion_violencia_hogar  \\\n",
       "0                                 0.0                         1.0   \n",
       "1                                 2.0                         1.0   \n",
       "2                                 3.0                         1.0   \n",
       "3                                 3.0                         1.0   \n",
       "4                                 1.0                         1.0   \n",
       "...                               ...                         ...   \n",
       "4993                              0.0                         2.0   \n",
       "4994                              0.0                         1.0   \n",
       "4995                              2.0                         2.0   \n",
       "4996                              1.0                         1.0   \n",
       "4997                              2.0                         1.0   \n",
       "\n",
       "      diagnostico_salud_mental  continuidad_tratamiento_salud_mental  \n",
       "0                          1.0                                  -1.0  \n",
       "1                          2.0                                   2.0  \n",
       "2                          1.0                                  -1.0  \n",
       "3                          2.0                                   1.0  \n",
       "4                          1.0                                  -1.0  \n",
       "...                        ...                                   ...  \n",
       "4993                       1.0                                  -1.0  \n",
       "4994                       1.0                                  -1.0  \n",
       "4995                       1.0                                  -1.0  \n",
       "4996                       1.0                                  -1.0  \n",
       "4997                       1.0                                  -1.0  \n",
       "\n",
       "[4998 rows x 50 columns]"
      ],
      "text/html": [
       "<div>\n",
       "<style scoped>\n",
       "    .dataframe tbody tr th:only-of-type {\n",
       "        vertical-align: middle;\n",
       "    }\n",
       "\n",
       "    .dataframe tbody tr th {\n",
       "        vertical-align: top;\n",
       "    }\n",
       "\n",
       "    .dataframe thead th {\n",
       "        text-align: right;\n",
       "    }\n",
       "</style>\n",
       "<table border=\"1\" class=\"dataframe\">\n",
       "  <thead>\n",
       "    <tr style=\"text-align: right;\">\n",
       "      <th></th>\n",
       "      <th>confianza_vecinos</th>\n",
       "      <th>frecuencia_habla_vecinos_mes_pasado</th>\n",
       "      <th>frecuencia_habla_vecinos_mes_normal</th>\n",
       "      <th>frecuencia_habla_amigos_familia_mes_pasado</th>\n",
       "      <th>frecuencia_habla_amigos_familia_mes_normal</th>\n",
       "      <th>cumplimiento_autocuidado_personal</th>\n",
       "      <th>cumplimiento_autocuidado_familiares</th>\n",
       "      <th>cumplimiento_autocuidado_vecinos</th>\n",
       "      <th>estrategia_comunicacion_clara</th>\n",
       "      <th>estrategia_comunicacion_suficiente</th>\n",
       "      <th>...</th>\n",
       "      <th>num_personas_hogar</th>\n",
       "      <th>num_personas_5_menos</th>\n",
       "      <th>num_personas_6_18</th>\n",
       "      <th>num_personas_19_64</th>\n",
       "      <th>num_personas_65_mas</th>\n",
       "      <th>oportunidad_expresar_sentimientos</th>\n",
       "      <th>frecuencia_actividad_fisica_mes</th>\n",
       "      <th>exposicion_violencia_hogar</th>\n",
       "      <th>diagnostico_salud_mental</th>\n",
       "      <th>continuidad_tratamiento_salud_mental</th>\n",
       "    </tr>\n",
       "  </thead>\n",
       "  <tbody>\n",
       "    <tr>\n",
       "      <th>0</th>\n",
       "      <td>3.0</td>\n",
       "      <td>1.0</td>\n",
       "      <td>4.0</td>\n",
       "      <td>6.0</td>\n",
       "      <td>5.0</td>\n",
       "      <td>5</td>\n",
       "      <td>5</td>\n",
       "      <td>5</td>\n",
       "      <td>2</td>\n",
       "      <td>2</td>\n",
       "      <td>...</td>\n",
       "      <td>4.0</td>\n",
       "      <td>1</td>\n",
       "      <td>1</td>\n",
       "      <td>2</td>\n",
       "      <td>0</td>\n",
       "      <td>2.0</td>\n",
       "      <td>0.0</td>\n",
       "      <td>1.0</td>\n",
       "      <td>1.0</td>\n",
       "      <td>-1.0</td>\n",
       "    </tr>\n",
       "    <tr>\n",
       "      <th>1</th>\n",
       "      <td>2.0</td>\n",
       "      <td>1.0</td>\n",
       "      <td>1.0</td>\n",
       "      <td>6.0</td>\n",
       "      <td>4.0</td>\n",
       "      <td>5</td>\n",
       "      <td>4</td>\n",
       "      <td>3</td>\n",
       "      <td>1</td>\n",
       "      <td>1</td>\n",
       "      <td>...</td>\n",
       "      <td>2.0</td>\n",
       "      <td>0</td>\n",
       "      <td>0</td>\n",
       "      <td>1</td>\n",
       "      <td>0</td>\n",
       "      <td>2.0</td>\n",
       "      <td>2.0</td>\n",
       "      <td>1.0</td>\n",
       "      <td>2.0</td>\n",
       "      <td>2.0</td>\n",
       "    </tr>\n",
       "    <tr>\n",
       "      <th>2</th>\n",
       "      <td>2.0</td>\n",
       "      <td>5.0</td>\n",
       "      <td>5.0</td>\n",
       "      <td>6.0</td>\n",
       "      <td>6.0</td>\n",
       "      <td>5</td>\n",
       "      <td>5</td>\n",
       "      <td>3</td>\n",
       "      <td>2</td>\n",
       "      <td>2</td>\n",
       "      <td>...</td>\n",
       "      <td>3.0</td>\n",
       "      <td>0</td>\n",
       "      <td>0</td>\n",
       "      <td>3</td>\n",
       "      <td>0</td>\n",
       "      <td>2.0</td>\n",
       "      <td>3.0</td>\n",
       "      <td>1.0</td>\n",
       "      <td>1.0</td>\n",
       "      <td>-1.0</td>\n",
       "    </tr>\n",
       "    <tr>\n",
       "      <th>3</th>\n",
       "      <td>3.0</td>\n",
       "      <td>5.0</td>\n",
       "      <td>5.0</td>\n",
       "      <td>6.0</td>\n",
       "      <td>6.0</td>\n",
       "      <td>5</td>\n",
       "      <td>4</td>\n",
       "      <td>4</td>\n",
       "      <td>2</td>\n",
       "      <td>2</td>\n",
       "      <td>...</td>\n",
       "      <td>4.0</td>\n",
       "      <td>0</td>\n",
       "      <td>0</td>\n",
       "      <td>4</td>\n",
       "      <td>0</td>\n",
       "      <td>2.0</td>\n",
       "      <td>3.0</td>\n",
       "      <td>1.0</td>\n",
       "      <td>2.0</td>\n",
       "      <td>1.0</td>\n",
       "    </tr>\n",
       "    <tr>\n",
       "      <th>4</th>\n",
       "      <td>3.0</td>\n",
       "      <td>4.0</td>\n",
       "      <td>4.0</td>\n",
       "      <td>5.0</td>\n",
       "      <td>5.0</td>\n",
       "      <td>4</td>\n",
       "      <td>4</td>\n",
       "      <td>4</td>\n",
       "      <td>2</td>\n",
       "      <td>0</td>\n",
       "      <td>...</td>\n",
       "      <td>1.0</td>\n",
       "      <td>0</td>\n",
       "      <td>0</td>\n",
       "      <td>1</td>\n",
       "      <td>0</td>\n",
       "      <td>2.0</td>\n",
       "      <td>1.0</td>\n",
       "      <td>1.0</td>\n",
       "      <td>1.0</td>\n",
       "      <td>-1.0</td>\n",
       "    </tr>\n",
       "    <tr>\n",
       "      <th>...</th>\n",
       "      <td>...</td>\n",
       "      <td>...</td>\n",
       "      <td>...</td>\n",
       "      <td>...</td>\n",
       "      <td>...</td>\n",
       "      <td>...</td>\n",
       "      <td>...</td>\n",
       "      <td>...</td>\n",
       "      <td>...</td>\n",
       "      <td>...</td>\n",
       "      <td>...</td>\n",
       "      <td>...</td>\n",
       "      <td>...</td>\n",
       "      <td>...</td>\n",
       "      <td>...</td>\n",
       "      <td>...</td>\n",
       "      <td>...</td>\n",
       "      <td>...</td>\n",
       "      <td>...</td>\n",
       "      <td>...</td>\n",
       "      <td>...</td>\n",
       "    </tr>\n",
       "    <tr>\n",
       "      <th>4993</th>\n",
       "      <td>1.0</td>\n",
       "      <td>2.0</td>\n",
       "      <td>4.0</td>\n",
       "      <td>6.0</td>\n",
       "      <td>6.0</td>\n",
       "      <td>5</td>\n",
       "      <td>4</td>\n",
       "      <td>1</td>\n",
       "      <td>2</td>\n",
       "      <td>1</td>\n",
       "      <td>...</td>\n",
       "      <td>2.0</td>\n",
       "      <td>0</td>\n",
       "      <td>0</td>\n",
       "      <td>2</td>\n",
       "      <td>0</td>\n",
       "      <td>1.0</td>\n",
       "      <td>0.0</td>\n",
       "      <td>2.0</td>\n",
       "      <td>1.0</td>\n",
       "      <td>-1.0</td>\n",
       "    </tr>\n",
       "    <tr>\n",
       "      <th>4994</th>\n",
       "      <td>1.0</td>\n",
       "      <td>1.0</td>\n",
       "      <td>1.0</td>\n",
       "      <td>4.0</td>\n",
       "      <td>5.0</td>\n",
       "      <td>4</td>\n",
       "      <td>3</td>\n",
       "      <td>3</td>\n",
       "      <td>2</td>\n",
       "      <td>1</td>\n",
       "      <td>...</td>\n",
       "      <td>3.0</td>\n",
       "      <td>0</td>\n",
       "      <td>1</td>\n",
       "      <td>2</td>\n",
       "      <td>0</td>\n",
       "      <td>2.0</td>\n",
       "      <td>0.0</td>\n",
       "      <td>1.0</td>\n",
       "      <td>1.0</td>\n",
       "      <td>-1.0</td>\n",
       "    </tr>\n",
       "    <tr>\n",
       "      <th>4995</th>\n",
       "      <td>3.0</td>\n",
       "      <td>4.0</td>\n",
       "      <td>3.0</td>\n",
       "      <td>5.0</td>\n",
       "      <td>6.0</td>\n",
       "      <td>3</td>\n",
       "      <td>3</td>\n",
       "      <td>2</td>\n",
       "      <td>0</td>\n",
       "      <td>2</td>\n",
       "      <td>...</td>\n",
       "      <td>5.0</td>\n",
       "      <td>1</td>\n",
       "      <td>2</td>\n",
       "      <td>2</td>\n",
       "      <td>0</td>\n",
       "      <td>1.0</td>\n",
       "      <td>2.0</td>\n",
       "      <td>2.0</td>\n",
       "      <td>1.0</td>\n",
       "      <td>-1.0</td>\n",
       "    </tr>\n",
       "    <tr>\n",
       "      <th>4996</th>\n",
       "      <td>2.0</td>\n",
       "      <td>3.0</td>\n",
       "      <td>3.0</td>\n",
       "      <td>5.0</td>\n",
       "      <td>5.0</td>\n",
       "      <td>4</td>\n",
       "      <td>4</td>\n",
       "      <td>2</td>\n",
       "      <td>2</td>\n",
       "      <td>2</td>\n",
       "      <td>...</td>\n",
       "      <td>3.0</td>\n",
       "      <td>0</td>\n",
       "      <td>0</td>\n",
       "      <td>3</td>\n",
       "      <td>0</td>\n",
       "      <td>2.0</td>\n",
       "      <td>1.0</td>\n",
       "      <td>1.0</td>\n",
       "      <td>1.0</td>\n",
       "      <td>-1.0</td>\n",
       "    </tr>\n",
       "    <tr>\n",
       "      <th>4997</th>\n",
       "      <td>2.0</td>\n",
       "      <td>5.0</td>\n",
       "      <td>5.0</td>\n",
       "      <td>5.0</td>\n",
       "      <td>5.0</td>\n",
       "      <td>5</td>\n",
       "      <td>5</td>\n",
       "      <td>3</td>\n",
       "      <td>2</td>\n",
       "      <td>1</td>\n",
       "      <td>...</td>\n",
       "      <td>3.0</td>\n",
       "      <td>1</td>\n",
       "      <td>0</td>\n",
       "      <td>2</td>\n",
       "      <td>0</td>\n",
       "      <td>2.0</td>\n",
       "      <td>2.0</td>\n",
       "      <td>1.0</td>\n",
       "      <td>1.0</td>\n",
       "      <td>-1.0</td>\n",
       "    </tr>\n",
       "  </tbody>\n",
       "</table>\n",
       "<p>4998 rows × 50 columns</p>\n",
       "</div>"
      ]
     },
     "execution_count": 300,
     "metadata": {},
     "output_type": "execute_result"
    }
   ],
   "execution_count": 300
  },
  {
   "metadata": {
    "ExecuteTime": {
     "end_time": "2024-08-02T02:14:44.123041Z",
     "start_time": "2024-08-02T02:14:44.017386Z"
    }
   },
   "cell_type": "code",
   "source": [
    "cur_dir = os.getcwd()\n",
    "df_numerico.to_csv(os.path.join(cur_dir,'data','df_numeric.csv'),index=False)"
   ],
   "id": "2aba096eef4803c1",
   "outputs": [],
   "execution_count": 301
  }
 ],
 "metadata": {
  "kernelspec": {
   "display_name": "Python 3",
   "language": "python",
   "name": "python3"
  },
  "language_info": {
   "codemirror_mode": {
    "name": "ipython",
    "version": 2
   },
   "file_extension": ".py",
   "mimetype": "text/x-python",
   "name": "python",
   "nbconvert_exporter": "python",
   "pygments_lexer": "ipython2",
   "version": "2.7.6"
  }
 },
 "nbformat": 4,
 "nbformat_minor": 5
}
